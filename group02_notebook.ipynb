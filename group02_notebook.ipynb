{
  "cells": [
    {
      "cell_type": "markdown",
      "source": [
        "# **Group 2 notebook**\n"
      ],
      "metadata": {
        "id": "_VFXLnzMrNjf"
      },
      "id": "_VFXLnzMrNjf"
    },
    {
      "cell_type": "markdown",
      "source": [
        "# 1. Importing modules and defining growth coupled function"
      ],
      "metadata": {
        "id": "9HoNgJf0rTFi"
      },
      "id": "9HoNgJf0rTFi"
    },
    {
      "cell_type": "code",
      "execution_count": null,
      "id": "8a89e221",
      "metadata": {
        "id": "8a89e221"
      },
      "outputs": [],
      "source": [
        "import numpy, datetime, importlib, os, pickle, itertools\n",
        "! pip install python-dotenv\n",
        "! pip install cobra"
      ]
    },
    {
      "cell_type": "code",
      "source": [
        "import pandas"
      ],
      "metadata": {
        "id": "pNRbPPh6BOjD"
      },
      "id": "pNRbPPh6BOjD",
      "execution_count": null,
      "outputs": []
    },
    {
      "cell_type": "code",
      "execution_count": null,
      "id": "e5febaa1",
      "metadata": {
        "id": "e5febaa1"
      },
      "outputs": [],
      "source": [
        "import multiprocessing, multiprocessing.pool\n",
        "from multiprocessing import Process, Queue\n",
        "from dotenv import find_dotenv\n",
        "from os.path import dirname\n",
        "import dotenv"
      ]
    },
    {
      "cell_type": "code",
      "execution_count": null,
      "id": "f9a89afd",
      "metadata": {
        "id": "f9a89afd"
      },
      "outputs": [],
      "source": [
        "import matplotlib, matplotlib.pyplot\n",
        "matplotlib.rcParams.update({'font.size':20, 'font.family':'FreeSans', 'xtick.labelsize':30, 'ytick.labelsize':30, 'axes.labelsize':40, 'figure.figsize':(12, 8)})"
      ]
    },
    {
      "cell_type": "code",
      "execution_count": null,
      "id": "77b2a3da",
      "metadata": {
        "id": "77b2a3da"
      },
      "outputs": [],
      "source": [
        "def growth_coupled_analysis(task):\n",
        "    \n",
        "    \"\"\"\n",
        "    This function performs the growth-coupled production.\n",
        "    It takes as input a list as [first_gene_pair_index, second_gene_pair_index, reaction_of_interest, biomass_reaction_label, model]\n",
        "    It gives as output a list as [first_gene_pair_index, second_gene_pair_index, growth, min_production, max_production]\n",
        "    \"\"\"\n",
        "    \n",
        "    i = task[0]\n",
        "    j = task[1]\n",
        "    reaction_of_interest = task[2]\n",
        "    biomass_reaction_label = task[3]\n",
        "    model = task[4]\n",
        "    \n",
        "    with model as model:\n",
        "                \n",
        "        # KO\n",
        "        model.genes[i].knock_out()\n",
        "        model.genes[j].knock_out()\n",
        "        solution = model.optimize()\n",
        "        if solution.status == 'optimal':\n",
        "            ko_growth = solution.objective_value\n",
        "\n",
        "            # growth-coupled production\n",
        "            model.objective = reaction_of_interest\n",
        "            model.reactions.get_by_id(biomass_reaction_label).lower_bound = ko_growth\n",
        "            max_production = model.optimize(objective_sense='maximize').objective_value\n",
        "            min_production = model.optimize(objective_sense='minimize').objective_value\n",
        "            \n",
        "            result = [i, j, ko_growth, min_production, max_production]\n",
        "        else:\n",
        "            result = [i, j, 0, 0, 0]\n",
        "\n",
        "    return result"
      ]
    },
    {
      "cell_type": "code",
      "execution_count": null,
      "id": "f42fc7ac",
      "metadata": {
        "id": "f42fc7ac"
      },
      "outputs": [],
      "source": [
        "def printt(message):\n",
        "\n",
        "    print(datetime.datetime.now().strftime(\"%Y-%m-%d %H:%M:%S \\t {}\".format(message)))   #here date & time, to see the runtime? \n",
        "\n",
        "    return None"
      ]
    },
    {
      "cell_type": "markdown",
      "id": "74ebf9e7",
      "metadata": {
        "id": "74ebf9e7"
      },
      "source": [
        "# 1. load the model"
      ]
    },
    {
      "cell_type": "markdown",
      "id": "fa692eff",
      "metadata": {
        "id": "fa692eff"
      },
      "source": [
        "\n",
        "Clone model from github."
      ]
    },
    {
      "cell_type": "code",
      "execution_count": null,
      "id": "826beebe",
      "metadata": {
        "id": "826beebe"
      },
      "outputs": [],
      "source": [
        "! git clone https://github.com/SysBioChalmers/yeast-GEM.git"
      ]
    },
    {
      "cell_type": "markdown",
      "id": "c7925645",
      "metadata": {
        "id": "c7925645"
      },
      "source": [
        "Here is the nightmare of reading the model using their methods."
      ]
    },
    {
      "cell_type": "code",
      "execution_count": null,
      "id": "005fcf2b",
      "metadata": {
        "id": "005fcf2b"
      },
      "outputs": [],
      "source": [
        "os.chdir('yeast-GEM')\n",
        "! touch .env\n",
        "\n",
        "# find .env + define paths:\n",
        "dotenv_path = dotenv.find_dotenv()\n",
        "REPO_PATH = os.path.dirname(dotenv_path)\n",
        "MODEL_PATH = f\"{REPO_PATH}/model/yeast-GEM.xml\""
      ]
    },
    {
      "cell_type": "code",
      "source": [
        "!rm -rf \"yeast-GEM\""
      ],
      "metadata": {
        "id": "EsyCCTamu5T5"
      },
      "id": "EsyCCTamu5T5",
      "execution_count": null,
      "outputs": []
    },
    {
      "cell_type": "code",
      "execution_count": null,
      "id": "58207bed",
      "metadata": {
        "id": "58207bed"
      },
      "outputs": [],
      "source": [
        "spec = importlib.util.spec_from_file_location(\"i_dont_know_what_is_this\", \"/content/yeast-GEM/code/io.py\")\n",
        "foo = importlib.util.module_from_spec(spec)\n",
        "spec.loader.exec_module(foo)\n",
        "model = foo.read_yeast_model()"
      ]
    },
    {
      "cell_type": "markdown",
      "id": "e69dc5f7",
      "metadata": {
        "id": "e69dc5f7"
      },
      "source": [
        "# 2. explore the model"
      ]
    },
    {
      "cell_type": "markdown",
      "source": [
        "Define the linear solver that is used"
      ],
      "metadata": {
        "id": "SFGaOyCei21B"
      },
      "id": "SFGaOyCei21B"
    },
    {
      "cell_type": "code",
      "execution_count": null,
      "id": "f3691b01",
      "metadata": {
        "id": "f3691b01"
      },
      "outputs": [],
      "source": [
        "working_solver = \"glpk\"\n",
        "model.solver = working_solver\n",
        "model.solver"
      ]
    },
    {
      "cell_type": "markdown",
      "source": [
        "s_0681[e] us the id of ethanol. This was found on the github reposatory for the model "
      ],
      "metadata": {
        "id": "mkd7xio8i9ah"
      },
      "id": "mkd7xio8i9ah"
    },
    {
      "cell_type": "code",
      "execution_count": null,
      "id": "63556032",
      "metadata": {
        "id": "63556032"
      },
      "outputs": [],
      "source": [
        "model.metabolites.get_by_id(\"s_0681[e]\")"
      ]
    },
    {
      "cell_type": "code",
      "execution_count": 15,
      "id": "bb06f3e8",
      "metadata": {
        "id": "bb06f3e8",
        "colab": {
          "base_uri": "https://localhost:8080/",
          "height": 204
        },
        "outputId": "84e8ef38-b832-47d7-ce79-d8fc0045ee62"
      },
      "outputs": [
        {
          "output_type": "execute_result",
          "data": {
            "text/plain": [
              "<Reaction r_1761 at 0x7fc9af1c8f90>"
            ],
            "text/html": [
              "\n",
              "        <table>\n",
              "            <tr>\n",
              "                <td><strong>Reaction identifier</strong></td><td>r_1761</td>\n",
              "            </tr><tr>\n",
              "                <td><strong>Name</strong></td><td>ethanol exchange</td>\n",
              "            </tr><tr>\n",
              "                <td><strong>Memory address</strong></td>\n",
              "                <td>0x07fc9af1c8f90</td>\n",
              "            </tr><tr>\n",
              "                <td><strong>Stoichiometry</strong></td>\n",
              "                <td>\n",
              "                    <p style='text-align:right'>s_0681[e] --></p>\n",
              "                    <p style='text-align:right'>ethanol [extracellular] --></p>\n",
              "                </td>\n",
              "            </tr><tr>\n",
              "                <td><strong>GPR</strong></td><td></td>\n",
              "            </tr><tr>\n",
              "                <td><strong>Lower bound</strong></td><td>0.0</td>\n",
              "            </tr><tr>\n",
              "                <td><strong>Upper bound</strong></td><td>1000.0</td>\n",
              "            </tr>\n",
              "        </table>\n",
              "        "
            ]
          },
          "metadata": {},
          "execution_count": 15
        }
      ],
      "source": [
        "model.reactions.get_by_id('r_1761')"
      ]
    },
    {
      "cell_type": "code",
      "execution_count": 16,
      "id": "907a4d3b",
      "metadata": {
        "id": "907a4d3b",
        "colab": {
          "base_uri": "https://localhost:8080/",
          "height": 204
        },
        "outputId": "28217abe-a7ce-40d6-dbd1-584da2c7dca1"
      },
      "outputs": [
        {
          "output_type": "execute_result",
          "data": {
            "text/plain": [
              "<Reaction r_1762 at 0x7fc9af1c8bd0>"
            ],
            "text/html": [
              "\n",
              "        <table>\n",
              "            <tr>\n",
              "                <td><strong>Reaction identifier</strong></td><td>r_1762</td>\n",
              "            </tr><tr>\n",
              "                <td><strong>Name</strong></td><td>ethanol transport</td>\n",
              "            </tr><tr>\n",
              "                <td><strong>Memory address</strong></td>\n",
              "                <td>0x07fc9af1c8bd0</td>\n",
              "            </tr><tr>\n",
              "                <td><strong>Stoichiometry</strong></td>\n",
              "                <td>\n",
              "                    <p style='text-align:right'>s_0680[c] <=> s_0681[e]</p>\n",
              "                    <p style='text-align:right'>ethanol [cytoplasm] <=> ethanol [extracellular]</p>\n",
              "                </td>\n",
              "            </tr><tr>\n",
              "                <td><strong>GPR</strong></td><td></td>\n",
              "            </tr><tr>\n",
              "                <td><strong>Lower bound</strong></td><td>-1000.0</td>\n",
              "            </tr><tr>\n",
              "                <td><strong>Upper bound</strong></td><td>1000.0</td>\n",
              "            </tr>\n",
              "        </table>\n",
              "        "
            ]
          },
          "metadata": {},
          "execution_count": 16
        }
      ],
      "source": [
        "model.reactions.get_by_id('r_1762')"
      ]
    },
    {
      "cell_type": "code",
      "execution_count": null,
      "id": "604aafd2",
      "metadata": {
        "id": "604aafd2"
      },
      "outputs": [],
      "source": [
        "model.summary()"
      ]
    },
    {
      "cell_type": "code",
      "execution_count": 19,
      "id": "028cc140",
      "metadata": {
        "id": "028cc140",
        "colab": {
          "base_uri": "https://localhost:8080/"
        },
        "outputId": "253bec7d-9314-473c-b700-47795196a368"
      },
      "outputs": [
        {
          "output_type": "stream",
          "name": "stdout",
          "text": [
            "1150\n"
          ]
        }
      ],
      "source": [
        "number_of_genes = len(model.genes)\n",
        "print(number_of_genes)"
      ]
    },
    {
      "cell_type": "markdown",
      "source": [
        "Ethanol exchange is the reaction that we will couple the growth of yeast to."
      ],
      "metadata": {
        "id": "9CoXWX_0jWR2"
      },
      "id": "9CoXWX_0jWR2"
    },
    {
      "cell_type": "code",
      "source": [
        "model.objective = 'r_1761'\n",
        "model.summary()"
      ],
      "metadata": {
        "id": "2Y0V_1WYLsP0"
      },
      "id": "2Y0V_1WYLsP0",
      "execution_count": null,
      "outputs": []
    },
    {
      "cell_type": "code",
      "source": [
        "from cobra.flux_analysis import flux_variability_analysis\n",
        "model.summary(fva=0.95) "
      ],
      "metadata": {
        "id": "DO4PSUqtM7--"
      },
      "id": "DO4PSUqtM7--",
      "execution_count": null,
      "outputs": []
    },
    {
      "cell_type": "markdown",
      "id": "e477fee8",
      "metadata": {
        "id": "e477fee8"
      },
      "source": [
        "# 2. growth-coupled metabolite production exploration"
      ]
    },
    {
      "cell_type": "markdown",
      "id": "5f9958e9",
      "metadata": {
        "id": "5f9958e9"
      },
      "source": [
        "## 2.1. define metabolite of interest and biomass function label"
      ]
    },
    {
      "cell_type": "code",
      "execution_count": 26,
      "id": "194f5481",
      "metadata": {
        "id": "194f5481"
      },
      "outputs": [],
      "source": [
        "reaction_of_interest = 'r_1761' # ethanol export\n",
        "biomass_reaction_label = 'r_2111' # biomass functions\n",
        "model.objective = biomass_reaction_label\n",
        "wt_solution = model.optimize()"
      ]
    },
    {
      "cell_type": "markdown",
      "id": "ddbb50fb",
      "metadata": {
        "id": "ddbb50fb"
      },
      "source": [
        "## 2.2. run serial"
      ]
    },
    {
      "cell_type": "markdown",
      "id": "aeb83ce9",
      "metadata": {
        "id": "aeb83ce9"
      },
      "source": [
        "- 1,225 pairs (50 x 50 genes) takes 3 min 8 sec in serial"
      ]
    },
    {
      "cell_type": "code",
      "source": [
        "pairs = list(itertools.combinations(range(20), 2)) # generate pairs of genes\n",
        "print(len(pairs)) # number of pairs generated"
      ],
      "metadata": {
        "colab": {
          "base_uri": "https://localhost:8080/"
        },
        "id": "cUTzxaUf4qO8",
        "outputId": "d9f26e3a-cc12-4549-f540-03b38de5ea1b"
      },
      "id": "cUTzxaUf4qO8",
      "execution_count": null,
      "outputs": [
        {
          "output_type": "stream",
          "name": "stdout",
          "text": [
            "190\n"
          ]
        }
      ]
    },
    {
      "cell_type": "code",
      "execution_count": null,
      "id": "336aef5a",
      "metadata": {
        "scrolled": false,
        "id": "336aef5a",
        "colab": {
          "base_uri": "https://localhost:8080/"
        },
        "outputId": "a971777f-e673-4279-8dae-8be136cca698"
      },
      "outputs": [
        {
          "output_type": "stream",
          "name": "stdout",
          "text": [
            "CPU times: user 45.1 s, sys: 148 ms, total: 45.2 s\n",
            "Wall time: 45.2 s\n"
          ]
        }
      ],
      "source": [
        "%%time\n",
        "results = []\n",
        "for p in pairs:\n",
        "  task = [p[0], p[1], reaction_of_interest, biomass_reaction_label, model]\n",
        "  result = growth_coupled_analysis(task)\n",
        "  results.append(result)         "
      ]
    },
    {
      "cell_type": "code",
      "execution_count": null,
      "id": "c263ae46",
      "metadata": {
        "id": "c263ae46",
        "colab": {
          "base_uri": "https://localhost:8080/",
          "height": 224
        },
        "outputId": "e7556ce8-da12-45c1-c013-e37fa2310a1e"
      },
      "outputs": [
        {
          "output_type": "stream",
          "name": "stdout",
          "text": [
            "190\n"
          ]
        },
        {
          "output_type": "execute_result",
          "data": {
            "text/plain": [
              "   i  j  KO growth  min production  max production\n",
              "0  0  1   0.012067        1.765583        1.806006\n",
              "1  0  2   0.012067        1.765583        1.806006\n",
              "2  0  3   0.012067        1.765583        1.806006\n",
              "3  0  4   0.012067        1.765583        1.806006\n",
              "4  0  5   0.012067        1.765583        1.806006"
            ],
            "text/html": [
              "\n",
              "  <div id=\"df-ebad0e3c-86d6-4a56-8374-30ec8a869664\">\n",
              "    <div class=\"colab-df-container\">\n",
              "      <div>\n",
              "<style scoped>\n",
              "    .dataframe tbody tr th:only-of-type {\n",
              "        vertical-align: middle;\n",
              "    }\n",
              "\n",
              "    .dataframe tbody tr th {\n",
              "        vertical-align: top;\n",
              "    }\n",
              "\n",
              "    .dataframe thead th {\n",
              "        text-align: right;\n",
              "    }\n",
              "</style>\n",
              "<table border=\"1\" class=\"dataframe\">\n",
              "  <thead>\n",
              "    <tr style=\"text-align: right;\">\n",
              "      <th></th>\n",
              "      <th>i</th>\n",
              "      <th>j</th>\n",
              "      <th>KO growth</th>\n",
              "      <th>min production</th>\n",
              "      <th>max production</th>\n",
              "    </tr>\n",
              "  </thead>\n",
              "  <tbody>\n",
              "    <tr>\n",
              "      <th>0</th>\n",
              "      <td>0</td>\n",
              "      <td>1</td>\n",
              "      <td>0.012067</td>\n",
              "      <td>1.765583</td>\n",
              "      <td>1.806006</td>\n",
              "    </tr>\n",
              "    <tr>\n",
              "      <th>1</th>\n",
              "      <td>0</td>\n",
              "      <td>2</td>\n",
              "      <td>0.012067</td>\n",
              "      <td>1.765583</td>\n",
              "      <td>1.806006</td>\n",
              "    </tr>\n",
              "    <tr>\n",
              "      <th>2</th>\n",
              "      <td>0</td>\n",
              "      <td>3</td>\n",
              "      <td>0.012067</td>\n",
              "      <td>1.765583</td>\n",
              "      <td>1.806006</td>\n",
              "    </tr>\n",
              "    <tr>\n",
              "      <th>3</th>\n",
              "      <td>0</td>\n",
              "      <td>4</td>\n",
              "      <td>0.012067</td>\n",
              "      <td>1.765583</td>\n",
              "      <td>1.806006</td>\n",
              "    </tr>\n",
              "    <tr>\n",
              "      <th>4</th>\n",
              "      <td>0</td>\n",
              "      <td>5</td>\n",
              "      <td>0.012067</td>\n",
              "      <td>1.765583</td>\n",
              "      <td>1.806006</td>\n",
              "    </tr>\n",
              "  </tbody>\n",
              "</table>\n",
              "</div>\n",
              "      <button class=\"colab-df-convert\" onclick=\"convertToInteractive('df-ebad0e3c-86d6-4a56-8374-30ec8a869664')\"\n",
              "              title=\"Convert this dataframe to an interactive table.\"\n",
              "              style=\"display:none;\">\n",
              "        \n",
              "  <svg xmlns=\"http://www.w3.org/2000/svg\" height=\"24px\"viewBox=\"0 0 24 24\"\n",
              "       width=\"24px\">\n",
              "    <path d=\"M0 0h24v24H0V0z\" fill=\"none\"/>\n",
              "    <path d=\"M18.56 5.44l.94 2.06.94-2.06 2.06-.94-2.06-.94-.94-2.06-.94 2.06-2.06.94zm-11 1L8.5 8.5l.94-2.06 2.06-.94-2.06-.94L8.5 2.5l-.94 2.06-2.06.94zm10 10l.94 2.06.94-2.06 2.06-.94-2.06-.94-.94-2.06-.94 2.06-2.06.94z\"/><path d=\"M17.41 7.96l-1.37-1.37c-.4-.4-.92-.59-1.43-.59-.52 0-1.04.2-1.43.59L10.3 9.45l-7.72 7.72c-.78.78-.78 2.05 0 2.83L4 21.41c.39.39.9.59 1.41.59.51 0 1.02-.2 1.41-.59l7.78-7.78 2.81-2.81c.8-.78.8-2.07 0-2.86zM5.41 20L4 18.59l7.72-7.72 1.47 1.35L5.41 20z\"/>\n",
              "  </svg>\n",
              "      </button>\n",
              "      \n",
              "  <style>\n",
              "    .colab-df-container {\n",
              "      display:flex;\n",
              "      flex-wrap:wrap;\n",
              "      gap: 12px;\n",
              "    }\n",
              "\n",
              "    .colab-df-convert {\n",
              "      background-color: #E8F0FE;\n",
              "      border: none;\n",
              "      border-radius: 50%;\n",
              "      cursor: pointer;\n",
              "      display: none;\n",
              "      fill: #1967D2;\n",
              "      height: 32px;\n",
              "      padding: 0 0 0 0;\n",
              "      width: 32px;\n",
              "    }\n",
              "\n",
              "    .colab-df-convert:hover {\n",
              "      background-color: #E2EBFA;\n",
              "      box-shadow: 0px 1px 2px rgba(60, 64, 67, 0.3), 0px 1px 3px 1px rgba(60, 64, 67, 0.15);\n",
              "      fill: #174EA6;\n",
              "    }\n",
              "\n",
              "    [theme=dark] .colab-df-convert {\n",
              "      background-color: #3B4455;\n",
              "      fill: #D2E3FC;\n",
              "    }\n",
              "\n",
              "    [theme=dark] .colab-df-convert:hover {\n",
              "      background-color: #434B5C;\n",
              "      box-shadow: 0px 1px 3px 1px rgba(0, 0, 0, 0.15);\n",
              "      filter: drop-shadow(0px 1px 2px rgba(0, 0, 0, 0.3));\n",
              "      fill: #FFFFFF;\n",
              "    }\n",
              "  </style>\n",
              "\n",
              "      <script>\n",
              "        const buttonEl =\n",
              "          document.querySelector('#df-ebad0e3c-86d6-4a56-8374-30ec8a869664 button.colab-df-convert');\n",
              "        buttonEl.style.display =\n",
              "          google.colab.kernel.accessAllowed ? 'block' : 'none';\n",
              "\n",
              "        async function convertToInteractive(key) {\n",
              "          const element = document.querySelector('#df-ebad0e3c-86d6-4a56-8374-30ec8a869664');\n",
              "          const dataTable =\n",
              "            await google.colab.kernel.invokeFunction('convertToInteractive',\n",
              "                                                     [key], {});\n",
              "          if (!dataTable) return;\n",
              "\n",
              "          const docLinkHtml = 'Like what you see? Visit the ' +\n",
              "            '<a target=\"_blank\" href=https://colab.research.google.com/notebooks/data_table.ipynb>data table notebook</a>'\n",
              "            + ' to learn more about interactive tables.';\n",
              "          element.innerHTML = '';\n",
              "          dataTable['output_type'] = 'display_data';\n",
              "          await google.colab.output.renderOutput(dataTable, element);\n",
              "          const docLink = document.createElement('div');\n",
              "          docLink.innerHTML = docLinkHtml;\n",
              "          element.appendChild(docLink);\n",
              "        }\n",
              "      </script>\n",
              "    </div>\n",
              "  </div>\n",
              "  "
            ]
          },
          "metadata": {},
          "execution_count": 45
        }
      ],
      "source": [
        "print(len(results))\n",
        "df = pandas.DataFrame(results, columns=['i', 'j', 'KO growth', 'min production', 'max production']) # i & j are the genes,number i and number j\n",
        "df.head()"
      ]
    },
    {
      "cell_type": "code",
      "execution_count": null,
      "id": "73d955cf",
      "metadata": {
        "scrolled": true,
        "id": "73d955cf",
        "colab": {
          "base_uri": "https://localhost:8080/",
          "height": 206
        },
        "outputId": "69f23236-e03f-464a-fbc5-16071c158b7d"
      },
      "outputs": [
        {
          "output_type": "execute_result",
          "data": {
            "text/plain": [
              "    i   j  KO growth  min production  max production\n",
              "64  3  14   0.012094        1.805569        1.805569\n",
              "62  3  12   0.012094        1.805569        1.805569\n",
              "63  3  13   0.012094        1.805569        1.805569\n",
              "67  3  17   0.012094        1.805569        1.805569\n",
              "59  3   9   0.012094        1.805569        1.805569"
            ],
            "text/html": [
              "\n",
              "  <div id=\"df-2b0c4a12-efee-4533-9a3c-2b746171eae7\">\n",
              "    <div class=\"colab-df-container\">\n",
              "      <div>\n",
              "<style scoped>\n",
              "    .dataframe tbody tr th:only-of-type {\n",
              "        vertical-align: middle;\n",
              "    }\n",
              "\n",
              "    .dataframe tbody tr th {\n",
              "        vertical-align: top;\n",
              "    }\n",
              "\n",
              "    .dataframe thead th {\n",
              "        text-align: right;\n",
              "    }\n",
              "</style>\n",
              "<table border=\"1\" class=\"dataframe\">\n",
              "  <thead>\n",
              "    <tr style=\"text-align: right;\">\n",
              "      <th></th>\n",
              "      <th>i</th>\n",
              "      <th>j</th>\n",
              "      <th>KO growth</th>\n",
              "      <th>min production</th>\n",
              "      <th>max production</th>\n",
              "    </tr>\n",
              "  </thead>\n",
              "  <tbody>\n",
              "    <tr>\n",
              "      <th>64</th>\n",
              "      <td>3</td>\n",
              "      <td>14</td>\n",
              "      <td>0.012094</td>\n",
              "      <td>1.805569</td>\n",
              "      <td>1.805569</td>\n",
              "    </tr>\n",
              "    <tr>\n",
              "      <th>62</th>\n",
              "      <td>3</td>\n",
              "      <td>12</td>\n",
              "      <td>0.012094</td>\n",
              "      <td>1.805569</td>\n",
              "      <td>1.805569</td>\n",
              "    </tr>\n",
              "    <tr>\n",
              "      <th>63</th>\n",
              "      <td>3</td>\n",
              "      <td>13</td>\n",
              "      <td>0.012094</td>\n",
              "      <td>1.805569</td>\n",
              "      <td>1.805569</td>\n",
              "    </tr>\n",
              "    <tr>\n",
              "      <th>67</th>\n",
              "      <td>3</td>\n",
              "      <td>17</td>\n",
              "      <td>0.012094</td>\n",
              "      <td>1.805569</td>\n",
              "      <td>1.805569</td>\n",
              "    </tr>\n",
              "    <tr>\n",
              "      <th>59</th>\n",
              "      <td>3</td>\n",
              "      <td>9</td>\n",
              "      <td>0.012094</td>\n",
              "      <td>1.805569</td>\n",
              "      <td>1.805569</td>\n",
              "    </tr>\n",
              "  </tbody>\n",
              "</table>\n",
              "</div>\n",
              "      <button class=\"colab-df-convert\" onclick=\"convertToInteractive('df-2b0c4a12-efee-4533-9a3c-2b746171eae7')\"\n",
              "              title=\"Convert this dataframe to an interactive table.\"\n",
              "              style=\"display:none;\">\n",
              "        \n",
              "  <svg xmlns=\"http://www.w3.org/2000/svg\" height=\"24px\"viewBox=\"0 0 24 24\"\n",
              "       width=\"24px\">\n",
              "    <path d=\"M0 0h24v24H0V0z\" fill=\"none\"/>\n",
              "    <path d=\"M18.56 5.44l.94 2.06.94-2.06 2.06-.94-2.06-.94-.94-2.06-.94 2.06-2.06.94zm-11 1L8.5 8.5l.94-2.06 2.06-.94-2.06-.94L8.5 2.5l-.94 2.06-2.06.94zm10 10l.94 2.06.94-2.06 2.06-.94-2.06-.94-.94-2.06-.94 2.06-2.06.94z\"/><path d=\"M17.41 7.96l-1.37-1.37c-.4-.4-.92-.59-1.43-.59-.52 0-1.04.2-1.43.59L10.3 9.45l-7.72 7.72c-.78.78-.78 2.05 0 2.83L4 21.41c.39.39.9.59 1.41.59.51 0 1.02-.2 1.41-.59l7.78-7.78 2.81-2.81c.8-.78.8-2.07 0-2.86zM5.41 20L4 18.59l7.72-7.72 1.47 1.35L5.41 20z\"/>\n",
              "  </svg>\n",
              "      </button>\n",
              "      \n",
              "  <style>\n",
              "    .colab-df-container {\n",
              "      display:flex;\n",
              "      flex-wrap:wrap;\n",
              "      gap: 12px;\n",
              "    }\n",
              "\n",
              "    .colab-df-convert {\n",
              "      background-color: #E8F0FE;\n",
              "      border: none;\n",
              "      border-radius: 50%;\n",
              "      cursor: pointer;\n",
              "      display: none;\n",
              "      fill: #1967D2;\n",
              "      height: 32px;\n",
              "      padding: 0 0 0 0;\n",
              "      width: 32px;\n",
              "    }\n",
              "\n",
              "    .colab-df-convert:hover {\n",
              "      background-color: #E2EBFA;\n",
              "      box-shadow: 0px 1px 2px rgba(60, 64, 67, 0.3), 0px 1px 3px 1px rgba(60, 64, 67, 0.15);\n",
              "      fill: #174EA6;\n",
              "    }\n",
              "\n",
              "    [theme=dark] .colab-df-convert {\n",
              "      background-color: #3B4455;\n",
              "      fill: #D2E3FC;\n",
              "    }\n",
              "\n",
              "    [theme=dark] .colab-df-convert:hover {\n",
              "      background-color: #434B5C;\n",
              "      box-shadow: 0px 1px 3px 1px rgba(0, 0, 0, 0.15);\n",
              "      filter: drop-shadow(0px 1px 2px rgba(0, 0, 0, 0.3));\n",
              "      fill: #FFFFFF;\n",
              "    }\n",
              "  </style>\n",
              "\n",
              "      <script>\n",
              "        const buttonEl =\n",
              "          document.querySelector('#df-2b0c4a12-efee-4533-9a3c-2b746171eae7 button.colab-df-convert');\n",
              "        buttonEl.style.display =\n",
              "          google.colab.kernel.accessAllowed ? 'block' : 'none';\n",
              "\n",
              "        async function convertToInteractive(key) {\n",
              "          const element = document.querySelector('#df-2b0c4a12-efee-4533-9a3c-2b746171eae7');\n",
              "          const dataTable =\n",
              "            await google.colab.kernel.invokeFunction('convertToInteractive',\n",
              "                                                     [key], {});\n",
              "          if (!dataTable) return;\n",
              "\n",
              "          const docLinkHtml = 'Like what you see? Visit the ' +\n",
              "            '<a target=\"_blank\" href=https://colab.research.google.com/notebooks/data_table.ipynb>data table notebook</a>'\n",
              "            + ' to learn more about interactive tables.';\n",
              "          element.innerHTML = '';\n",
              "          dataTable['output_type'] = 'display_data';\n",
              "          await google.colab.output.renderOutput(dataTable, element);\n",
              "          const docLink = document.createElement('div');\n",
              "          docLink.innerHTML = docLinkHtml;\n",
              "          element.appendChild(docLink);\n",
              "        }\n",
              "      </script>\n",
              "    </div>\n",
              "  </div>\n",
              "  "
            ]
          },
          "metadata": {},
          "execution_count": 46
        }
      ],
      "source": [
        "df.sort_values(by=['min production'], ascending=False).head() # 5 best in min production"
      ]
    },
    {
      "cell_type": "markdown",
      "id": "220ac7cd",
      "metadata": {
        "id": "220ac7cd"
      },
      "source": [
        "### 2.2.1. plot production envelope"
      ]
    },
    {
      "cell_type": "code",
      "execution_count": 27,
      "id": "5a7c9cf1",
      "metadata": {
        "id": "5a7c9cf1"
      },
      "outputs": [],
      "source": [
        "# WT    \n",
        "plotting_wt_biomass = []\n",
        "wt_production = []\n",
        "\n",
        "biomass_space = numpy.linspace(0, wt_solution.objective_value, 100)\n",
        "\n",
        "with model as model:\n",
        "    model.objective = reaction_of_interest\n",
        "    for target in biomass_space:\n",
        "        model.reactions.get_by_id(biomass_reaction_label).bounds = (target, target)\n",
        "        solution = model.optimize()\n",
        "        if solution.status == 'optimal':\n",
        "            plotting_wt_biomass.append(target); wt_production.append(solution.objective_value)"
      ]
    },
    {
      "cell_type": "code",
      "execution_count": null,
      "id": "2a3b8006",
      "metadata": {
        "id": "2a3b8006"
      },
      "outputs": [],
      "source": [
        "# KO    \n",
        "#plotting optimised solution of growth-coupled production in a graph with best pair of genes for unadjusted model\n",
        "#This gene pair gives the best min production of ethanol as will become clear later in the notebook\n",
        "i=0; j=367\n",
        "\n",
        "plotting_ko_biomass = []\n",
        "max_productions = []\n",
        "min_productions = []\n",
        "\n",
        "with model as model:\n",
        "    model.genes[i].knock_out() \n",
        "    model.genes[j].knock_out()\n",
        "    ko_solution = model.optimize()\n",
        "    \n",
        "    biomass_space = numpy.linspace(0, ko_solution.objective_value, 100)\n",
        "    with model as model:\n",
        "        model.objective = reaction_of_interest\n",
        "        for target in biomass_space:\n",
        "            model.reactions.get_by_id(biomass_reaction_label).lower_bound = target\n",
        "            max_production = model.optimize(objective_sense='maximize').objective_value\n",
        "            min_production = model.optimize(objective_sense='minimize').objective_value\n",
        "            plotting_ko_biomass.append(target); max_productions.append(max_production); min_productions.append(min_production)"
      ]
    },
    {
      "cell_type": "code",
      "execution_count": null,
      "id": "fe2d647d",
      "metadata": {
        "id": "fe2d647d"
      },
      "outputs": [],
      "source": [
        "# make figure\n",
        "matplotlib.pyplot.plot(plotting_wt_biomass, wt_production, '-', color='black', lw=4, label='WT')\n",
        "matplotlib.pyplot.fill_between(plotting_ko_biomass, min_productions, max_productions, color='orange', alpha=0.5, label='KO')\n",
        "\n",
        "matplotlib.pyplot.xlabel('Growth')\n",
        "matplotlib.pyplot.ylabel('Production')\n",
        "matplotlib.pyplot.grid(ls=':')\n",
        "matplotlib.pyplot.legend()\n",
        "\n",
        "matplotlib.pyplot.tight_layout()"
      ]
    },
    {
      "cell_type": "markdown",
      "id": "5b722c44",
      "metadata": {
        "id": "5b722c44"
      },
      "source": [
        "## 2.3. run in parallel environment"
      ]
    },
    {
      "cell_type": "markdown",
      "id": "73d7ce81",
      "metadata": {
        "id": "73d7ce81"
      },
      "source": [
        "Using multiprocessing could be difficult because if the function yields an error, it is difficult to track. Consider using testing functions and serial code as in previous section to avoid errors while executing the parallel approach."
      ]
    },
    {
      "cell_type": "code",
      "execution_count": null,
      "id": "a800448a",
      "metadata": {
        "id": "a800448a"
      },
      "outputs": [],
      "source": [
        "number_of_threads = 2    #here we are running all the genes in all the pairs.  before we were running 20 pairs. "
      ]
    },
    {
      "cell_type": "markdown",
      "id": "14e52249",
      "metadata": {
        "id": "14e52249"
      },
      "source": [
        "Having 1,150 genes to test implies 660,675 gene-pair evaluations.  \n",
        "\n",
        "In in a 20 threads environment:  \n",
        "\n",
        "- 50 x 50 genes implies 1,225 gene pairs which takes 33 sec.\n",
        "- 100 x 100 genes implies 4,950 gene pairs which takes 1 min 45 sec.\n",
        "- 450 x 450 genes implies 101,025 gene pairs which takes 35 min.\n",
        "- all genes implies 660,675 gene pairs which takes 3h 24 min."
      ]
    },
    {
      "cell_type": "code",
      "execution_count": null,
      "id": "184037b7",
      "metadata": {
        "id": "184037b7"
      },
      "outputs": [],
      "source": [
        "printt('working with {} genes'.format(number_of_genes))   \n",
        "\n",
        "tasks = []\n",
        "for i in range(len(model.genes)):\n",
        "    for j in range(len(model.genes)):\n",
        "        if i < j:\n",
        "            task = [i, j, reaction_of_interest, biomass_reaction_label, model]\n",
        "            tasks.append(task)\n",
        "printt('working with {} gene pairs'.format(len(tasks)))"
      ]
    },
    {
      "cell_type": "code",
      "execution_count": null,
      "id": "1e25cecb",
      "metadata": {
        "scrolled": true,
        "id": "1e25cecb"
      },
      "outputs": [],
      "source": [
        "%%time\n",
        "printt('entering a parallel world of {} threads'.format(number_of_threads))\n",
        "hydra = multiprocessing.pool.Pool(number_of_threads)\n",
        "hydra_output = hydra.map(growth_coupled_analysis, tasks)\n",
        "hydra.close()\n",
        "printt('completed {} tasks'.format(len(hydra_output)))"
      ]
    },
    {
      "cell_type": "code",
      "execution_count": null,
      "id": "598e0ee8",
      "metadata": {
        "id": "598e0ee8"
      },
      "outputs": [],
      "source": [
        "df = pandas.DataFrame(hydra_output, columns=['i', 'j', 'KO growth', 'min production', 'max production'])\n",
        "df.sort_values(by=['min production'], ascending=False)"
      ]
    },
    {
      "cell_type": "markdown",
      "id": "5d0de5d2",
      "metadata": {
        "id": "5d0de5d2"
      },
      "source": [
        "# 3. store dataframe"
      ]
    },
    {
      "cell_type": "code",
      "execution_count": null,
      "id": "25b45ca4",
      "metadata": {
        "id": "25b45ca4"
      },
      "outputs": [],
      "source": [
        "printt('store double KO information as a dataframe')\n",
        "\n",
        "f = open('doubleKO.pickle','wb')\n",
        "pickle.dump(df, f)\n",
        "f.close()"
      ]
    },
    {
      "cell_type": "markdown",
      "source": [
        "# 4. adjusting the model\n"
      ],
      "metadata": {
        "id": "nd-TgUV8JVpA"
      },
      "id": "nd-TgUV8JVpA"
    },
    {
      "cell_type": "markdown",
      "source": [
        "## 4.1 Helper functions"
      ],
      "metadata": {
        "id": "t-lcbkgfYgi6"
      },
      "id": "t-lcbkgfYgi6"
    },
    {
      "cell_type": "code",
      "source": [
        "# find probes with expression log2 fold change less than or equal to -1  \n",
        "import math\n",
        "def find_probe_list(probe,control_list,condition_list):\n",
        "  dn_probe = []\n",
        "  for i in range(len(control_list)):\n",
        "    FC = condition_list[i]/control_list[i]\n",
        "    log_FC = math.log(FC,2)\n",
        "    if(log_FC <= -1):\n",
        "      dn_probe.append(probe[i])\n",
        "  return dn_probe"
      ],
      "metadata": {
        "id": "vFmX724olfQz"
      },
      "id": "vFmX724olfQz",
      "execution_count": 31,
      "outputs": []
    },
    {
      "cell_type": "code",
      "source": [
        "# find probes with expression log2 fold change greater than or euqla to 1 \n",
        "def find_probe_list_up(probe,control_list,condition_list):\n",
        "  up_probe = []\n",
        "  for i in range(len(control_list)):\n",
        "    FC = condition_list[i]/control_list[i]\n",
        "    log_FC = math.log(FC,2)\n",
        "    if(log_FC >= 1):\n",
        "      up_probe.append(probe[i])\n",
        "  return up_probe"
      ],
      "metadata": {
        "id": "aV6ZzmNGFBtn"
      },
      "id": "aV6ZzmNGFBtn",
      "execution_count": 32,
      "outputs": []
    },
    {
      "cell_type": "code",
      "source": [
        "#find gene ids of probes with downregulated expression   \n",
        "def find_gene_ids(dn_probe,probe_map,gene_map):\n",
        "  gene_id_dn = []\n",
        "  for i in range(len(dn_probe)):\n",
        "    for j in range(len(probe_map)):\n",
        "      if(dn_probe[i] == probe_map[j]):\n",
        "        gene_id_dn.append(gene_map[j])\n",
        "  return gene_id_dn"
      ],
      "metadata": {
        "id": "UIM4LDG4VdDs"
      },
      "id": "UIM4LDG4VdDs",
      "execution_count": 33,
      "outputs": []
    },
    {
      "cell_type": "code",
      "source": [
        "#make a copy of original model which is adjusted for downregulated genes\n",
        "def adjust_model(model,gene_id_dn):\n",
        "  reaction_ko = []\n",
        "  model_adjust = model.copy()\n",
        "  for gene in gene_id_dn:\n",
        "    new_gene = fix_gene_id(gene)\n",
        "    if new_gene in model.genes:\n",
        "      model_adjust.genes.get_by_id(new_gene).knock_out()\n",
        "  return model_adjust"
      ],
      "metadata": {
        "id": "daHqqoRdWeYh"
      },
      "id": "daHqqoRdWeYh",
      "execution_count": 34,
      "outputs": []
    },
    {
      "cell_type": "code",
      "source": [
        "#function that has as an input a gene id from the dataset and returns an id that the model can read\n",
        "def fix_gene_id(gene):\n",
        "  gene_new_char = []\n",
        "  for char in gene:\n",
        "    if char != \".\":\n",
        "      gene_new_char.append(char)\n",
        "    else:\n",
        "      break\n",
        "  str = \"\"\n",
        "  for ele in gene_new_char:\n",
        "    str += ele\n",
        "  return str"
      ],
      "metadata": {
        "id": "YHF77dLNgME6"
      },
      "id": "YHF77dLNgME6",
      "execution_count": 35,
      "outputs": []
    },
    {
      "cell_type": "code",
      "source": [
        "def count_ko_reactions(model_adj):\n",
        "  rxn_list = []\n",
        "  for i in range(len(model_adj.reactions)):\n",
        "    rxn = model_adj.reactions[i]\n",
        "    if rxn.bounds == (0,0):\n",
        "      rxn_list.append(rxn.id)\n",
        "    rxn_list\n",
        "  return rxn_list"
      ],
      "metadata": {
        "id": "crLFTgv_qs_c"
      },
      "id": "crLFTgv_qs_c",
      "execution_count": 36,
      "outputs": []
    },
    {
      "cell_type": "markdown",
      "source": [
        "## 4.2 Loading data"
      ],
      "metadata": {
        "id": "Atj1JuWQ6v6Z"
      },
      "id": "Atj1JuWQ6v6Z"
    },
    {
      "cell_type": "markdown",
      "source": [
        "Here we load and process the expression data for yeast in 3%, 7% and 0% alcohol environment"
      ],
      "metadata": {
        "id": "3_jpjFhml3cf"
      },
      "id": "3_jpjFhml3cf"
    },
    {
      "cell_type": "code",
      "source": [
        "! wget https://ftp.ncbi.nlm.nih.gov/geo/series/GSE20nnn/GSE20108/matrix/GSE20108_series_matrix.txt.gz\n",
        "df = pandas.read_csv(\"GSE20108_series_matrix.txt.gz\", compression=\"gzip\", sep=\"\\t\", skiprows=59)\n",
        "df.head()"
      ],
      "metadata": {
        "id": "-qj_o41E60BA"
      },
      "id": "-qj_o41E60BA",
      "execution_count": null,
      "outputs": []
    },
    {
      "cell_type": "code",
      "source": [
        "len(df[\"ID_REF\"])"
      ],
      "metadata": {
        "colab": {
          "base_uri": "https://localhost:8080/"
        },
        "id": "v7d12keNf_X2",
        "outputId": "89012873-574e-4117-cbc6-245364b09ecf"
      },
      "id": "v7d12keNf_X2",
      "execution_count": 39,
      "outputs": [
        {
          "output_type": "execute_result",
          "data": {
            "text/plain": [
              "10929"
            ]
          },
          "metadata": {},
          "execution_count": 39
        }
      ]
    },
    {
      "cell_type": "code",
      "source": [
        "#make a list of all probe ids\n",
        "df_probe = df.loc[:,\"ID_REF\"]\n",
        "df_probe.head()\n",
        "df_probe_list = df_probe.to_numpy()"
      ],
      "metadata": {
        "id": "aI_ENqpIBC2q"
      },
      "id": "aI_ENqpIBC2q",
      "execution_count": 40,
      "outputs": []
    },
    {
      "cell_type": "code",
      "source": [
        "#make a list of all control values by finding mean of the two replicates of the same condition\n",
        "#The strains are diploid\n",
        "df_control = []\n",
        "df_control_list_1 = df[\"GSM502532\"].to_numpy()\n",
        "df_control_list_2 = df[\"GSM502533\"].to_numpy()\n",
        "for i in range(len(df_control_list_1)-1):\n",
        "  control_i = (df_control_list_1[i]+df_control_list_2[i])/2\n",
        "  df_control.append(control_i)\n",
        "\n",
        "df_alc3 = []\n",
        "df_alc3_1 = df[\"GSM502534\"].to_numpy()\n",
        "df_alc3_2 = df[\"GSM502535\"].to_numpy()\n",
        "for i in range(len(df_alc3_1)-1):\n",
        "  alc3_i = (df_alc3_1[i]+df_alc3_2[i])/2\n",
        "  df_alc3.append(alc3_i)\n",
        "\n",
        "df_alc7 = []\n",
        "df_alc7_1 = df[\"GSM502536\"].to_numpy()\n",
        "df_alc7_2 = df[\"GSM502537\"].to_numpy()\n",
        "for i in range(len(df_alc7_1)-1):\n",
        "  alc7_i = (df_alc7_1[i]+df_alc7_2[i])/2\n",
        "  df_alc7.append(alc7_i)"
      ],
      "metadata": {
        "id": "cJXoT7eTB4Y4"
      },
      "id": "cJXoT7eTB4Y4",
      "execution_count": 42,
      "outputs": []
    },
    {
      "cell_type": "code",
      "source": [
        " #File that maps probe ids to gene ids\n",
        " ! wget https://www.ebi.ac.uk/arrayexpress/files/A-AFFY-47/A-AFFY-47.adf.txt\n",
        " df2 = pandas.read_csv(\"A-AFFY-47.adf.txt\",sep=\"\\t\", skiprows = 231)\n",
        " df2.head()"
      ],
      "metadata": {
        "id": "-PJQnZLtNadH"
      },
      "id": "-PJQnZLtNadH",
      "execution_count": null,
      "outputs": []
    },
    {
      "cell_type": "code",
      "source": [
        " len(df2[\"AFFX-Sc-M57289-1\"])"
      ],
      "metadata": {
        "colab": {
          "base_uri": "https://localhost:8080/"
        },
        "id": "8sQ3RH03f1NH",
        "outputId": "8347982a-9f59-43fb-be90-4615a192c8b4"
      },
      "id": "8sQ3RH03f1NH",
      "execution_count": 44,
      "outputs": [
        {
          "output_type": "execute_result",
          "data": {
            "text/plain": [
              "10715"
            ]
          },
          "metadata": {},
          "execution_count": 44
        }
      ]
    },
    {
      "cell_type": "code",
      "source": [
        "print(df2[\"AFFX-Sc-M57289-1\"].nunique())"
      ],
      "metadata": {
        "colab": {
          "base_uri": "https://localhost:8080/"
        },
        "id": "BplWnp-0hvC_",
        "outputId": "7aa2cdf9-641f-43fc-9a6a-3c9eff699f04"
      },
      "id": "BplWnp-0hvC_",
      "execution_count": 45,
      "outputs": [
        {
          "output_type": "stream",
          "name": "stdout",
          "text": [
            "10639\n"
          ]
        }
      ]
    },
    {
      "cell_type": "code",
      "source": [
        "probe_map = df2.loc[:, \"RPTR-Sc-M57289-1_s_at\"].to_numpy()\n",
        "gene_map = df2.loc[:, \"AFFX-Sc-M57289-1\"].to_numpy()"
      ],
      "metadata": {
        "id": "aAW0KKg4PGE_"
      },
      "id": "aAW0KKg4PGE_",
      "execution_count": 46,
      "outputs": []
    },
    {
      "cell_type": "markdown",
      "source": [
        "## 4.3 adjust model for first and second condition"
      ],
      "metadata": {
        "id": "Zio51xs2NHrk"
      },
      "id": "Zio51xs2NHrk"
    },
    {
      "cell_type": "code",
      "source": [
        "#adjust for 3% ethanol condition\n",
        "probe_alc3 = find_probe_list(df_probe_list,df_control,df_alc3)\n",
        "dn_gene_alc3 = find_gene_ids(probe_alc3, probe_map,gene_map)\n",
        "model_alc3 = adjust_model(model,dn_gene_alc3)\n",
        "KO_rxn_alc3 = count_ko_reactions(model_alc3)\n",
        "print(len(KO_rxn_alc3))\n",
        "print(KO_rxn_alc3)"
      ],
      "metadata": {
        "id": "lL_bAzBTL7p0",
        "colab": {
          "base_uri": "https://localhost:8080/"
        },
        "outputId": "55055265-e38a-4c7c-ddbf-a1f53cdb93a6"
      },
      "id": "lL_bAzBTL7p0",
      "execution_count": 50,
      "outputs": [
        {
          "output_type": "stream",
          "name": "stdout",
          "text": [
            "19\n",
            "['r_0191', 'r_0549', 'r_1075', 'r_2117', 'r_2118', 'r_2119', 'r_1119', 'r_1250', 'r_1259', 'r_1663', 'r_1795', 'r_1816', 'r_2190', 'r_2191', 'r_4062', 'r_4064', 'r_4332', 'r_4493', 'r_4660']\n"
          ]
        }
      ]
    },
    {
      "cell_type": "code",
      "source": [
        "#adjust for 7% ethanol condition\n",
        "probe_alc7 = find_probe_list(df_probe_list,df_control,df_alc7)\n",
        "dn_gene_alc7 = find_gene_ids(probe_alc7,probe_map,gene_map)\n",
        "model_alc7 = adjust_model(model,dn_gene_alc3)\n",
        "KO_rxn_alc7 = count_ko_reactions(model_alc7)\n",
        "print(len(KO_rxn_alc7))\n",
        "print(KO_rxn_alc7)"
      ],
      "metadata": {
        "id": "Kjdo2LjDrubs",
        "colab": {
          "base_uri": "https://localhost:8080/"
        },
        "outputId": "de05e2e6-0008-4712-aec8-55931d8800fe"
      },
      "id": "Kjdo2LjDrubs",
      "execution_count": 49,
      "outputs": [
        {
          "output_type": "stream",
          "name": "stdout",
          "text": [
            "19\n",
            "['r_0191', 'r_0549', 'r_1075', 'r_2117', 'r_2118', 'r_2119', 'r_1119', 'r_1250', 'r_1259', 'r_1663', 'r_1795', 'r_1816', 'r_2190', 'r_2191', 'r_4062', 'r_4064', 'r_4332', 'r_4493', 'r_4660']\n"
          ]
        }
      ]
    },
    {
      "cell_type": "markdown",
      "source": [
        "## 4.4 double KO on adjusted model"
      ],
      "metadata": {
        "id": "DTHDOa2NFUyP"
      },
      "id": "DTHDOa2NFUyP"
    },
    {
      "cell_type": "markdown",
      "source": [
        "Only need to run on the 3% alcahol model since it had the same reactions knocked out as the 7% model"
      ],
      "metadata": {
        "id": "tgOrZ7xuFtHO"
      },
      "id": "tgOrZ7xuFtHO"
    },
    {
      "cell_type": "code",
      "source": [
        "printt('working with {} genes'.format(number_of_genes))\n",
        "\n",
        "tasks = []\n",
        "for i in range(len(model_alc3.genes)):\n",
        "    for j in range(len(model_alc3.genes)):\n",
        "        if i < j:\n",
        "            task = [i, j, reaction_of_interest, biomass_reaction_label, model_alc3]\n",
        "            tasks.append(task)\n",
        "printt('working with {} gene pairs'.format(len(tasks)))"
      ],
      "metadata": {
        "id": "02cYdWnEFans"
      },
      "id": "02cYdWnEFans",
      "execution_count": null,
      "outputs": []
    },
    {
      "cell_type": "code",
      "source": [
        "%%time\n",
        "printt('entering a parallel world of {} threads'.format(number_of_threads))\n",
        "hydra = multiprocessing.pool.Pool(number_of_threads)\n",
        "hydra_output = hydra.map(growth_coupled_analysis, tasks)\n",
        "hydra.close()\n",
        "printt('completed {} tasks'.format(len(hydra_output)))"
      ],
      "metadata": {
        "id": "83J0thuOFTmE"
      },
      "execution_count": null,
      "outputs": [],
      "id": "83J0thuOFTmE"
    },
    {
      "cell_type": "code",
      "source": [
        "df = pandas.DataFrame(hydra_output, columns=['i', 'j', 'KO growth', 'min production', 'max production'])\n",
        "df.sort_values(by=['min production'], ascending=False)"
      ],
      "metadata": {
        "id": "oZkhgFpGFlpJ"
      },
      "id": "oZkhgFpGFlpJ",
      "execution_count": null,
      "outputs": []
    },
    {
      "cell_type": "code",
      "source": [
        "printt('store double KO information as a dataframe')\n",
        "\n",
        "f = open('doubleKO_alc3.pickle','wb')\n",
        "pickle.dump(df, f)\n",
        "f.close()"
      ],
      "metadata": {
        "id": "vEoyjU1wFl-k"
      },
      "id": "vEoyjU1wFl-k",
      "execution_count": null,
      "outputs": []
    },
    {
      "cell_type": "markdown",
      "source": [
        "# 5. Exploring genes that give growth coupled design"
      ],
      "metadata": {
        "id": "evySp5938mZW"
      },
      "id": "evySp5938mZW"
    },
    {
      "cell_type": "markdown",
      "source": [
        "## 5.1 unadjusted model"
      ],
      "metadata": {
        "id": "lkuM6pB2TW3a"
      },
      "id": "lkuM6pB2TW3a"
    },
    {
      "cell_type": "code",
      "source": [
        "#upload unadjusted json file here, it contains results from running growth coupled function on the unadjusted model\n",
        "import json\n",
        "with open('/content/doubleKO_unadjusted.json', 'r') as f:\n",
        "    new_str = json.load(f)\n",
        "df_un = pandas.read_json(new_str)"
      ],
      "metadata": {
        "id": "B1ZKB6B38rzd"
      },
      "id": "B1ZKB6B38rzd",
      "execution_count": 54,
      "outputs": []
    },
    {
      "cell_type": "code",
      "source": [
        "df_un.head()\n",
        "df_un.sort_values(\"min production\",ascending = False)"
      ],
      "metadata": {
        "id": "vFTjIJ7cCDfA",
        "colab": {
          "base_uri": "https://localhost:8080/",
          "height": 424
        },
        "outputId": "07149e71-ebcf-4963-9630-c7c23b7f1ebd"
      },
      "id": "vFTjIJ7cCDfA",
      "execution_count": 55,
      "outputs": [
        {
          "output_type": "execute_result",
          "data": {
            "text/plain": [
              "           i     j  KO growth  min production  max production\n",
              "366        0   367   0.011881        1.817702        1.817702\n",
              "7685       6   813   0.011881        1.817701        1.817701\n",
              "812        0   813   0.011881        1.817701        1.817701\n",
              "142685   131   813   0.011881        1.817701        1.817701\n",
              "7239       6   367   0.011881        1.817700        1.817701\n",
              "...      ...   ...        ...             ...             ...\n",
              "224163   215   349   0.083748        0.000000        0.000000\n",
              "224164   215   350   0.083748        0.000000        0.000000\n",
              "224165   215   351   0.083748        0.000000        0.000000\n",
              "224166   215   352   0.083743        0.000000        0.000000\n",
              "660674  1148  1149   0.083748        0.000000        0.000000\n",
              "\n",
              "[660675 rows x 5 columns]"
            ],
            "text/html": [
              "\n",
              "  <div id=\"df-be566f33-a81e-4145-a29f-a922a7bc0e22\">\n",
              "    <div class=\"colab-df-container\">\n",
              "      <div>\n",
              "<style scoped>\n",
              "    .dataframe tbody tr th:only-of-type {\n",
              "        vertical-align: middle;\n",
              "    }\n",
              "\n",
              "    .dataframe tbody tr th {\n",
              "        vertical-align: top;\n",
              "    }\n",
              "\n",
              "    .dataframe thead th {\n",
              "        text-align: right;\n",
              "    }\n",
              "</style>\n",
              "<table border=\"1\" class=\"dataframe\">\n",
              "  <thead>\n",
              "    <tr style=\"text-align: right;\">\n",
              "      <th></th>\n",
              "      <th>i</th>\n",
              "      <th>j</th>\n",
              "      <th>KO growth</th>\n",
              "      <th>min production</th>\n",
              "      <th>max production</th>\n",
              "    </tr>\n",
              "  </thead>\n",
              "  <tbody>\n",
              "    <tr>\n",
              "      <th>366</th>\n",
              "      <td>0</td>\n",
              "      <td>367</td>\n",
              "      <td>0.011881</td>\n",
              "      <td>1.817702</td>\n",
              "      <td>1.817702</td>\n",
              "    </tr>\n",
              "    <tr>\n",
              "      <th>7685</th>\n",
              "      <td>6</td>\n",
              "      <td>813</td>\n",
              "      <td>0.011881</td>\n",
              "      <td>1.817701</td>\n",
              "      <td>1.817701</td>\n",
              "    </tr>\n",
              "    <tr>\n",
              "      <th>812</th>\n",
              "      <td>0</td>\n",
              "      <td>813</td>\n",
              "      <td>0.011881</td>\n",
              "      <td>1.817701</td>\n",
              "      <td>1.817701</td>\n",
              "    </tr>\n",
              "    <tr>\n",
              "      <th>142685</th>\n",
              "      <td>131</td>\n",
              "      <td>813</td>\n",
              "      <td>0.011881</td>\n",
              "      <td>1.817701</td>\n",
              "      <td>1.817701</td>\n",
              "    </tr>\n",
              "    <tr>\n",
              "      <th>7239</th>\n",
              "      <td>6</td>\n",
              "      <td>367</td>\n",
              "      <td>0.011881</td>\n",
              "      <td>1.817700</td>\n",
              "      <td>1.817701</td>\n",
              "    </tr>\n",
              "    <tr>\n",
              "      <th>...</th>\n",
              "      <td>...</td>\n",
              "      <td>...</td>\n",
              "      <td>...</td>\n",
              "      <td>...</td>\n",
              "      <td>...</td>\n",
              "    </tr>\n",
              "    <tr>\n",
              "      <th>224163</th>\n",
              "      <td>215</td>\n",
              "      <td>349</td>\n",
              "      <td>0.083748</td>\n",
              "      <td>0.000000</td>\n",
              "      <td>0.000000</td>\n",
              "    </tr>\n",
              "    <tr>\n",
              "      <th>224164</th>\n",
              "      <td>215</td>\n",
              "      <td>350</td>\n",
              "      <td>0.083748</td>\n",
              "      <td>0.000000</td>\n",
              "      <td>0.000000</td>\n",
              "    </tr>\n",
              "    <tr>\n",
              "      <th>224165</th>\n",
              "      <td>215</td>\n",
              "      <td>351</td>\n",
              "      <td>0.083748</td>\n",
              "      <td>0.000000</td>\n",
              "      <td>0.000000</td>\n",
              "    </tr>\n",
              "    <tr>\n",
              "      <th>224166</th>\n",
              "      <td>215</td>\n",
              "      <td>352</td>\n",
              "      <td>0.083743</td>\n",
              "      <td>0.000000</td>\n",
              "      <td>0.000000</td>\n",
              "    </tr>\n",
              "    <tr>\n",
              "      <th>660674</th>\n",
              "      <td>1148</td>\n",
              "      <td>1149</td>\n",
              "      <td>0.083748</td>\n",
              "      <td>0.000000</td>\n",
              "      <td>0.000000</td>\n",
              "    </tr>\n",
              "  </tbody>\n",
              "</table>\n",
              "<p>660675 rows × 5 columns</p>\n",
              "</div>\n",
              "      <button class=\"colab-df-convert\" onclick=\"convertToInteractive('df-be566f33-a81e-4145-a29f-a922a7bc0e22')\"\n",
              "              title=\"Convert this dataframe to an interactive table.\"\n",
              "              style=\"display:none;\">\n",
              "        \n",
              "  <svg xmlns=\"http://www.w3.org/2000/svg\" height=\"24px\"viewBox=\"0 0 24 24\"\n",
              "       width=\"24px\">\n",
              "    <path d=\"M0 0h24v24H0V0z\" fill=\"none\"/>\n",
              "    <path d=\"M18.56 5.44l.94 2.06.94-2.06 2.06-.94-2.06-.94-.94-2.06-.94 2.06-2.06.94zm-11 1L8.5 8.5l.94-2.06 2.06-.94-2.06-.94L8.5 2.5l-.94 2.06-2.06.94zm10 10l.94 2.06.94-2.06 2.06-.94-2.06-.94-.94-2.06-.94 2.06-2.06.94z\"/><path d=\"M17.41 7.96l-1.37-1.37c-.4-.4-.92-.59-1.43-.59-.52 0-1.04.2-1.43.59L10.3 9.45l-7.72 7.72c-.78.78-.78 2.05 0 2.83L4 21.41c.39.39.9.59 1.41.59.51 0 1.02-.2 1.41-.59l7.78-7.78 2.81-2.81c.8-.78.8-2.07 0-2.86zM5.41 20L4 18.59l7.72-7.72 1.47 1.35L5.41 20z\"/>\n",
              "  </svg>\n",
              "      </button>\n",
              "      \n",
              "  <style>\n",
              "    .colab-df-container {\n",
              "      display:flex;\n",
              "      flex-wrap:wrap;\n",
              "      gap: 12px;\n",
              "    }\n",
              "\n",
              "    .colab-df-convert {\n",
              "      background-color: #E8F0FE;\n",
              "      border: none;\n",
              "      border-radius: 50%;\n",
              "      cursor: pointer;\n",
              "      display: none;\n",
              "      fill: #1967D2;\n",
              "      height: 32px;\n",
              "      padding: 0 0 0 0;\n",
              "      width: 32px;\n",
              "    }\n",
              "\n",
              "    .colab-df-convert:hover {\n",
              "      background-color: #E2EBFA;\n",
              "      box-shadow: 0px 1px 2px rgba(60, 64, 67, 0.3), 0px 1px 3px 1px rgba(60, 64, 67, 0.15);\n",
              "      fill: #174EA6;\n",
              "    }\n",
              "\n",
              "    [theme=dark] .colab-df-convert {\n",
              "      background-color: #3B4455;\n",
              "      fill: #D2E3FC;\n",
              "    }\n",
              "\n",
              "    [theme=dark] .colab-df-convert:hover {\n",
              "      background-color: #434B5C;\n",
              "      box-shadow: 0px 1px 3px 1px rgba(0, 0, 0, 0.15);\n",
              "      filter: drop-shadow(0px 1px 2px rgba(0, 0, 0, 0.3));\n",
              "      fill: #FFFFFF;\n",
              "    }\n",
              "  </style>\n",
              "\n",
              "      <script>\n",
              "        const buttonEl =\n",
              "          document.querySelector('#df-be566f33-a81e-4145-a29f-a922a7bc0e22 button.colab-df-convert');\n",
              "        buttonEl.style.display =\n",
              "          google.colab.kernel.accessAllowed ? 'block' : 'none';\n",
              "\n",
              "        async function convertToInteractive(key) {\n",
              "          const element = document.querySelector('#df-be566f33-a81e-4145-a29f-a922a7bc0e22');\n",
              "          const dataTable =\n",
              "            await google.colab.kernel.invokeFunction('convertToInteractive',\n",
              "                                                     [key], {});\n",
              "          if (!dataTable) return;\n",
              "\n",
              "          const docLinkHtml = 'Like what you see? Visit the ' +\n",
              "            '<a target=\"_blank\" href=https://colab.research.google.com/notebooks/data_table.ipynb>data table notebook</a>'\n",
              "            + ' to learn more about interactive tables.';\n",
              "          element.innerHTML = '';\n",
              "          dataTable['output_type'] = 'display_data';\n",
              "          await google.colab.output.renderOutput(dataTable, element);\n",
              "          const docLink = document.createElement('div');\n",
              "          docLink.innerHTML = docLinkHtml;\n",
              "          element.appendChild(docLink);\n",
              "        }\n",
              "      </script>\n",
              "    </div>\n",
              "  </div>\n",
              "  "
            ]
          },
          "metadata": {},
          "execution_count": 55
        }
      ]
    },
    {
      "cell_type": "code",
      "source": [
        "df_un.loc[df_un[\"min production\"]>0]"
      ],
      "metadata": {
        "colab": {
          "base_uri": "https://localhost:8080/",
          "height": 424
        },
        "id": "AC0Sf2pn2pTR",
        "outputId": "4164a912-67ea-4181-9bb5-4cff6b4026ab"
      },
      "id": "AC0Sf2pn2pTR",
      "execution_count": 56,
      "outputs": [
        {
          "output_type": "execute_result",
          "data": {
            "text/plain": [
              "          i     j  KO growth  min production  max production\n",
              "0         0     1   0.012067        1.765583        1.806007\n",
              "1         0     2   0.012067        1.765583        1.806007\n",
              "2         0     3   0.012067        1.765478        1.806030\n",
              "3         0     4   0.012067        1.765583        1.806007\n",
              "4         0     5   0.012067        1.765478        1.806030\n",
              "...     ...   ...        ...             ...             ...\n",
              "631509  907  1145   0.012094        1.805569        1.805569\n",
              "631510  907  1146   0.012095        1.805571        1.805571\n",
              "631511  907  1147   0.012095        1.805571        1.805571\n",
              "631512  907  1148   0.012095        1.805570        1.805570\n",
              "631513  907  1149   0.012094        1.805569        1.805569\n",
              "\n",
              "[13732 rows x 5 columns]"
            ],
            "text/html": [
              "\n",
              "  <div id=\"df-fd3b3bdf-e0eb-4a69-93f8-8bbac4fc1123\">\n",
              "    <div class=\"colab-df-container\">\n",
              "      <div>\n",
              "<style scoped>\n",
              "    .dataframe tbody tr th:only-of-type {\n",
              "        vertical-align: middle;\n",
              "    }\n",
              "\n",
              "    .dataframe tbody tr th {\n",
              "        vertical-align: top;\n",
              "    }\n",
              "\n",
              "    .dataframe thead th {\n",
              "        text-align: right;\n",
              "    }\n",
              "</style>\n",
              "<table border=\"1\" class=\"dataframe\">\n",
              "  <thead>\n",
              "    <tr style=\"text-align: right;\">\n",
              "      <th></th>\n",
              "      <th>i</th>\n",
              "      <th>j</th>\n",
              "      <th>KO growth</th>\n",
              "      <th>min production</th>\n",
              "      <th>max production</th>\n",
              "    </tr>\n",
              "  </thead>\n",
              "  <tbody>\n",
              "    <tr>\n",
              "      <th>0</th>\n",
              "      <td>0</td>\n",
              "      <td>1</td>\n",
              "      <td>0.012067</td>\n",
              "      <td>1.765583</td>\n",
              "      <td>1.806007</td>\n",
              "    </tr>\n",
              "    <tr>\n",
              "      <th>1</th>\n",
              "      <td>0</td>\n",
              "      <td>2</td>\n",
              "      <td>0.012067</td>\n",
              "      <td>1.765583</td>\n",
              "      <td>1.806007</td>\n",
              "    </tr>\n",
              "    <tr>\n",
              "      <th>2</th>\n",
              "      <td>0</td>\n",
              "      <td>3</td>\n",
              "      <td>0.012067</td>\n",
              "      <td>1.765478</td>\n",
              "      <td>1.806030</td>\n",
              "    </tr>\n",
              "    <tr>\n",
              "      <th>3</th>\n",
              "      <td>0</td>\n",
              "      <td>4</td>\n",
              "      <td>0.012067</td>\n",
              "      <td>1.765583</td>\n",
              "      <td>1.806007</td>\n",
              "    </tr>\n",
              "    <tr>\n",
              "      <th>4</th>\n",
              "      <td>0</td>\n",
              "      <td>5</td>\n",
              "      <td>0.012067</td>\n",
              "      <td>1.765478</td>\n",
              "      <td>1.806030</td>\n",
              "    </tr>\n",
              "    <tr>\n",
              "      <th>...</th>\n",
              "      <td>...</td>\n",
              "      <td>...</td>\n",
              "      <td>...</td>\n",
              "      <td>...</td>\n",
              "      <td>...</td>\n",
              "    </tr>\n",
              "    <tr>\n",
              "      <th>631509</th>\n",
              "      <td>907</td>\n",
              "      <td>1145</td>\n",
              "      <td>0.012094</td>\n",
              "      <td>1.805569</td>\n",
              "      <td>1.805569</td>\n",
              "    </tr>\n",
              "    <tr>\n",
              "      <th>631510</th>\n",
              "      <td>907</td>\n",
              "      <td>1146</td>\n",
              "      <td>0.012095</td>\n",
              "      <td>1.805571</td>\n",
              "      <td>1.805571</td>\n",
              "    </tr>\n",
              "    <tr>\n",
              "      <th>631511</th>\n",
              "      <td>907</td>\n",
              "      <td>1147</td>\n",
              "      <td>0.012095</td>\n",
              "      <td>1.805571</td>\n",
              "      <td>1.805571</td>\n",
              "    </tr>\n",
              "    <tr>\n",
              "      <th>631512</th>\n",
              "      <td>907</td>\n",
              "      <td>1148</td>\n",
              "      <td>0.012095</td>\n",
              "      <td>1.805570</td>\n",
              "      <td>1.805570</td>\n",
              "    </tr>\n",
              "    <tr>\n",
              "      <th>631513</th>\n",
              "      <td>907</td>\n",
              "      <td>1149</td>\n",
              "      <td>0.012094</td>\n",
              "      <td>1.805569</td>\n",
              "      <td>1.805569</td>\n",
              "    </tr>\n",
              "  </tbody>\n",
              "</table>\n",
              "<p>13732 rows × 5 columns</p>\n",
              "</div>\n",
              "      <button class=\"colab-df-convert\" onclick=\"convertToInteractive('df-fd3b3bdf-e0eb-4a69-93f8-8bbac4fc1123')\"\n",
              "              title=\"Convert this dataframe to an interactive table.\"\n",
              "              style=\"display:none;\">\n",
              "        \n",
              "  <svg xmlns=\"http://www.w3.org/2000/svg\" height=\"24px\"viewBox=\"0 0 24 24\"\n",
              "       width=\"24px\">\n",
              "    <path d=\"M0 0h24v24H0V0z\" fill=\"none\"/>\n",
              "    <path d=\"M18.56 5.44l.94 2.06.94-2.06 2.06-.94-2.06-.94-.94-2.06-.94 2.06-2.06.94zm-11 1L8.5 8.5l.94-2.06 2.06-.94-2.06-.94L8.5 2.5l-.94 2.06-2.06.94zm10 10l.94 2.06.94-2.06 2.06-.94-2.06-.94-.94-2.06-.94 2.06-2.06.94z\"/><path d=\"M17.41 7.96l-1.37-1.37c-.4-.4-.92-.59-1.43-.59-.52 0-1.04.2-1.43.59L10.3 9.45l-7.72 7.72c-.78.78-.78 2.05 0 2.83L4 21.41c.39.39.9.59 1.41.59.51 0 1.02-.2 1.41-.59l7.78-7.78 2.81-2.81c.8-.78.8-2.07 0-2.86zM5.41 20L4 18.59l7.72-7.72 1.47 1.35L5.41 20z\"/>\n",
              "  </svg>\n",
              "      </button>\n",
              "      \n",
              "  <style>\n",
              "    .colab-df-container {\n",
              "      display:flex;\n",
              "      flex-wrap:wrap;\n",
              "      gap: 12px;\n",
              "    }\n",
              "\n",
              "    .colab-df-convert {\n",
              "      background-color: #E8F0FE;\n",
              "      border: none;\n",
              "      border-radius: 50%;\n",
              "      cursor: pointer;\n",
              "      display: none;\n",
              "      fill: #1967D2;\n",
              "      height: 32px;\n",
              "      padding: 0 0 0 0;\n",
              "      width: 32px;\n",
              "    }\n",
              "\n",
              "    .colab-df-convert:hover {\n",
              "      background-color: #E2EBFA;\n",
              "      box-shadow: 0px 1px 2px rgba(60, 64, 67, 0.3), 0px 1px 3px 1px rgba(60, 64, 67, 0.15);\n",
              "      fill: #174EA6;\n",
              "    }\n",
              "\n",
              "    [theme=dark] .colab-df-convert {\n",
              "      background-color: #3B4455;\n",
              "      fill: #D2E3FC;\n",
              "    }\n",
              "\n",
              "    [theme=dark] .colab-df-convert:hover {\n",
              "      background-color: #434B5C;\n",
              "      box-shadow: 0px 1px 3px 1px rgba(0, 0, 0, 0.15);\n",
              "      filter: drop-shadow(0px 1px 2px rgba(0, 0, 0, 0.3));\n",
              "      fill: #FFFFFF;\n",
              "    }\n",
              "  </style>\n",
              "\n",
              "      <script>\n",
              "        const buttonEl =\n",
              "          document.querySelector('#df-fd3b3bdf-e0eb-4a69-93f8-8bbac4fc1123 button.colab-df-convert');\n",
              "        buttonEl.style.display =\n",
              "          google.colab.kernel.accessAllowed ? 'block' : 'none';\n",
              "\n",
              "        async function convertToInteractive(key) {\n",
              "          const element = document.querySelector('#df-fd3b3bdf-e0eb-4a69-93f8-8bbac4fc1123');\n",
              "          const dataTable =\n",
              "            await google.colab.kernel.invokeFunction('convertToInteractive',\n",
              "                                                     [key], {});\n",
              "          if (!dataTable) return;\n",
              "\n",
              "          const docLinkHtml = 'Like what you see? Visit the ' +\n",
              "            '<a target=\"_blank\" href=https://colab.research.google.com/notebooks/data_table.ipynb>data table notebook</a>'\n",
              "            + ' to learn more about interactive tables.';\n",
              "          element.innerHTML = '';\n",
              "          dataTable['output_type'] = 'display_data';\n",
              "          await google.colab.output.renderOutput(dataTable, element);\n",
              "          const docLink = document.createElement('div');\n",
              "          docLink.innerHTML = docLinkHtml;\n",
              "          element.appendChild(docLink);\n",
              "        }\n",
              "      </script>\n",
              "    </div>\n",
              "  </div>\n",
              "  "
            ]
          },
          "metadata": {},
          "execution_count": 56
        }
      ]
    },
    {
      "cell_type": "code",
      "source": [
        "df_gene_un = df_un.loc[df_un[\"min production\"] >= 1.8]\n",
        "df_gene_un.sort_values(\"min production\",ascending = False)"
      ],
      "metadata": {
        "id": "KoJ1mq8XC5m_",
        "colab": {
          "base_uri": "https://localhost:8080/",
          "height": 424
        },
        "outputId": "556763d6-9975-4034-9ca6-af1e4a3a13a7"
      },
      "id": "KoJ1mq8XC5m_",
      "execution_count": 57,
      "outputs": [
        {
          "output_type": "execute_result",
          "data": {
            "text/plain": [
              "          i    j  KO growth  min production  max production\n",
              "366       0  367   0.011881        1.817702        1.817702\n",
              "7685      6  813   0.011881        1.817701        1.817701\n",
              "812       0  813   0.011881        1.817701        1.817701\n",
              "142685  131  813   0.011881        1.817701        1.817701\n",
              "7239      6  367   0.011881        1.817700        1.817701\n",
              "...     ...  ...        ...             ...             ...\n",
              "299498  299  798   0.012050        1.801073        1.801073\n",
              "29197    25  798   0.012050        1.801073        1.801073\n",
              "373420  391  798   0.012050        1.801073        1.801073\n",
              "436208  479  798   0.012050        1.801073        1.801073\n",
              "348668  359  798   0.012050        1.801073        1.801073\n",
              "\n",
              "[9527 rows x 5 columns]"
            ],
            "text/html": [
              "\n",
              "  <div id=\"df-973db596-bb1d-4b0e-988b-4bf15e503cc2\">\n",
              "    <div class=\"colab-df-container\">\n",
              "      <div>\n",
              "<style scoped>\n",
              "    .dataframe tbody tr th:only-of-type {\n",
              "        vertical-align: middle;\n",
              "    }\n",
              "\n",
              "    .dataframe tbody tr th {\n",
              "        vertical-align: top;\n",
              "    }\n",
              "\n",
              "    .dataframe thead th {\n",
              "        text-align: right;\n",
              "    }\n",
              "</style>\n",
              "<table border=\"1\" class=\"dataframe\">\n",
              "  <thead>\n",
              "    <tr style=\"text-align: right;\">\n",
              "      <th></th>\n",
              "      <th>i</th>\n",
              "      <th>j</th>\n",
              "      <th>KO growth</th>\n",
              "      <th>min production</th>\n",
              "      <th>max production</th>\n",
              "    </tr>\n",
              "  </thead>\n",
              "  <tbody>\n",
              "    <tr>\n",
              "      <th>366</th>\n",
              "      <td>0</td>\n",
              "      <td>367</td>\n",
              "      <td>0.011881</td>\n",
              "      <td>1.817702</td>\n",
              "      <td>1.817702</td>\n",
              "    </tr>\n",
              "    <tr>\n",
              "      <th>7685</th>\n",
              "      <td>6</td>\n",
              "      <td>813</td>\n",
              "      <td>0.011881</td>\n",
              "      <td>1.817701</td>\n",
              "      <td>1.817701</td>\n",
              "    </tr>\n",
              "    <tr>\n",
              "      <th>812</th>\n",
              "      <td>0</td>\n",
              "      <td>813</td>\n",
              "      <td>0.011881</td>\n",
              "      <td>1.817701</td>\n",
              "      <td>1.817701</td>\n",
              "    </tr>\n",
              "    <tr>\n",
              "      <th>142685</th>\n",
              "      <td>131</td>\n",
              "      <td>813</td>\n",
              "      <td>0.011881</td>\n",
              "      <td>1.817701</td>\n",
              "      <td>1.817701</td>\n",
              "    </tr>\n",
              "    <tr>\n",
              "      <th>7239</th>\n",
              "      <td>6</td>\n",
              "      <td>367</td>\n",
              "      <td>0.011881</td>\n",
              "      <td>1.817700</td>\n",
              "      <td>1.817701</td>\n",
              "    </tr>\n",
              "    <tr>\n",
              "      <th>...</th>\n",
              "      <td>...</td>\n",
              "      <td>...</td>\n",
              "      <td>...</td>\n",
              "      <td>...</td>\n",
              "      <td>...</td>\n",
              "    </tr>\n",
              "    <tr>\n",
              "      <th>299498</th>\n",
              "      <td>299</td>\n",
              "      <td>798</td>\n",
              "      <td>0.012050</td>\n",
              "      <td>1.801073</td>\n",
              "      <td>1.801073</td>\n",
              "    </tr>\n",
              "    <tr>\n",
              "      <th>29197</th>\n",
              "      <td>25</td>\n",
              "      <td>798</td>\n",
              "      <td>0.012050</td>\n",
              "      <td>1.801073</td>\n",
              "      <td>1.801073</td>\n",
              "    </tr>\n",
              "    <tr>\n",
              "      <th>373420</th>\n",
              "      <td>391</td>\n",
              "      <td>798</td>\n",
              "      <td>0.012050</td>\n",
              "      <td>1.801073</td>\n",
              "      <td>1.801073</td>\n",
              "    </tr>\n",
              "    <tr>\n",
              "      <th>436208</th>\n",
              "      <td>479</td>\n",
              "      <td>798</td>\n",
              "      <td>0.012050</td>\n",
              "      <td>1.801073</td>\n",
              "      <td>1.801073</td>\n",
              "    </tr>\n",
              "    <tr>\n",
              "      <th>348668</th>\n",
              "      <td>359</td>\n",
              "      <td>798</td>\n",
              "      <td>0.012050</td>\n",
              "      <td>1.801073</td>\n",
              "      <td>1.801073</td>\n",
              "    </tr>\n",
              "  </tbody>\n",
              "</table>\n",
              "<p>9527 rows × 5 columns</p>\n",
              "</div>\n",
              "      <button class=\"colab-df-convert\" onclick=\"convertToInteractive('df-973db596-bb1d-4b0e-988b-4bf15e503cc2')\"\n",
              "              title=\"Convert this dataframe to an interactive table.\"\n",
              "              style=\"display:none;\">\n",
              "        \n",
              "  <svg xmlns=\"http://www.w3.org/2000/svg\" height=\"24px\"viewBox=\"0 0 24 24\"\n",
              "       width=\"24px\">\n",
              "    <path d=\"M0 0h24v24H0V0z\" fill=\"none\"/>\n",
              "    <path d=\"M18.56 5.44l.94 2.06.94-2.06 2.06-.94-2.06-.94-.94-2.06-.94 2.06-2.06.94zm-11 1L8.5 8.5l.94-2.06 2.06-.94-2.06-.94L8.5 2.5l-.94 2.06-2.06.94zm10 10l.94 2.06.94-2.06 2.06-.94-2.06-.94-.94-2.06-.94 2.06-2.06.94z\"/><path d=\"M17.41 7.96l-1.37-1.37c-.4-.4-.92-.59-1.43-.59-.52 0-1.04.2-1.43.59L10.3 9.45l-7.72 7.72c-.78.78-.78 2.05 0 2.83L4 21.41c.39.39.9.59 1.41.59.51 0 1.02-.2 1.41-.59l7.78-7.78 2.81-2.81c.8-.78.8-2.07 0-2.86zM5.41 20L4 18.59l7.72-7.72 1.47 1.35L5.41 20z\"/>\n",
              "  </svg>\n",
              "      </button>\n",
              "      \n",
              "  <style>\n",
              "    .colab-df-container {\n",
              "      display:flex;\n",
              "      flex-wrap:wrap;\n",
              "      gap: 12px;\n",
              "    }\n",
              "\n",
              "    .colab-df-convert {\n",
              "      background-color: #E8F0FE;\n",
              "      border: none;\n",
              "      border-radius: 50%;\n",
              "      cursor: pointer;\n",
              "      display: none;\n",
              "      fill: #1967D2;\n",
              "      height: 32px;\n",
              "      padding: 0 0 0 0;\n",
              "      width: 32px;\n",
              "    }\n",
              "\n",
              "    .colab-df-convert:hover {\n",
              "      background-color: #E2EBFA;\n",
              "      box-shadow: 0px 1px 2px rgba(60, 64, 67, 0.3), 0px 1px 3px 1px rgba(60, 64, 67, 0.15);\n",
              "      fill: #174EA6;\n",
              "    }\n",
              "\n",
              "    [theme=dark] .colab-df-convert {\n",
              "      background-color: #3B4455;\n",
              "      fill: #D2E3FC;\n",
              "    }\n",
              "\n",
              "    [theme=dark] .colab-df-convert:hover {\n",
              "      background-color: #434B5C;\n",
              "      box-shadow: 0px 1px 3px 1px rgba(0, 0, 0, 0.15);\n",
              "      filter: drop-shadow(0px 1px 2px rgba(0, 0, 0, 0.3));\n",
              "      fill: #FFFFFF;\n",
              "    }\n",
              "  </style>\n",
              "\n",
              "      <script>\n",
              "        const buttonEl =\n",
              "          document.querySelector('#df-973db596-bb1d-4b0e-988b-4bf15e503cc2 button.colab-df-convert');\n",
              "        buttonEl.style.display =\n",
              "          google.colab.kernel.accessAllowed ? 'block' : 'none';\n",
              "\n",
              "        async function convertToInteractive(key) {\n",
              "          const element = document.querySelector('#df-973db596-bb1d-4b0e-988b-4bf15e503cc2');\n",
              "          const dataTable =\n",
              "            await google.colab.kernel.invokeFunction('convertToInteractive',\n",
              "                                                     [key], {});\n",
              "          if (!dataTable) return;\n",
              "\n",
              "          const docLinkHtml = 'Like what you see? Visit the ' +\n",
              "            '<a target=\"_blank\" href=https://colab.research.google.com/notebooks/data_table.ipynb>data table notebook</a>'\n",
              "            + ' to learn more about interactive tables.';\n",
              "          element.innerHTML = '';\n",
              "          dataTable['output_type'] = 'display_data';\n",
              "          await google.colab.output.renderOutput(dataTable, element);\n",
              "          const docLink = document.createElement('div');\n",
              "          docLink.innerHTML = docLinkHtml;\n",
              "          element.appendChild(docLink);\n",
              "        }\n",
              "      </script>\n",
              "    </div>\n",
              "  </div>\n",
              "  "
            ]
          },
          "metadata": {},
          "execution_count": 57
        }
      ]
    },
    {
      "cell_type": "code",
      "source": [
        "i_gene_un = df_gene_un[\"i\"].tolist()\n",
        "j_gene_un = df_gene_un[\"j\"].tolist()\n",
        "gene_list_un = j_gene_un + i_gene_un"
      ],
      "metadata": {
        "id": "rPBCjrN4JF0x"
      },
      "id": "rPBCjrN4JF0x",
      "execution_count": 64,
      "outputs": []
    },
    {
      "cell_type": "code",
      "source": [
        "from collections import Counter\n",
        "c_un = Counter(gene_list_un)\n",
        "print(c_un.most_common(5))"
      ],
      "metadata": {
        "colab": {
          "base_uri": "https://localhost:8080/"
        },
        "id": "UiQaMYtBKDTv",
        "outputId": "b56ab0bc-c6db-4319-a63f-ac8d396ecdb7"
      },
      "id": "UiQaMYtBKDTv",
      "execution_count": 59,
      "outputs": [
        {
          "output_type": "stream",
          "name": "stdout",
          "text": [
            "[(3, 964), (299, 958), (238, 956), (789, 956), (231, 955)]\n"
          ]
        }
      ]
    },
    {
      "cell_type": "code",
      "source": [
        "print(model.genes[3])\n",
        "print(model.genes[299])\n",
        "print(model.genes[238])\n",
        "print(model.genes[789])\n",
        "print(model.genes[231])"
      ],
      "metadata": {
        "id": "zjYxC8UFY1_n"
      },
      "id": "zjYxC8UFY1_n",
      "execution_count": null,
      "outputs": []
    },
    {
      "cell_type": "code",
      "source": [
        "print(\"4 best gene pairs:\")\n",
        "for gene_num in range(4):\n",
        "  print(str(model.genes[i_gene_un[gene_num]]) + \" and \" + str(model.genes[j_gene_un[gene_num]]))"
      ],
      "metadata": {
        "colab": {
          "base_uri": "https://localhost:8080/"
        },
        "id": "cC25jYXG37NS",
        "outputId": "6532ce47-ab8d-409f-d8e6-7d948b2718dd"
      },
      "id": "cC25jYXG37NS",
      "execution_count": 61,
      "outputs": [
        {
          "output_type": "stream",
          "name": "stdout",
          "text": [
            "4 best gene pairs:\n",
            "Q0045 and YEL047C\n",
            "Q0045 and YGR208W\n",
            "Q0045 and YLR011W\n",
            "Q0045 and YOL126C\n"
          ]
        }
      ]
    },
    {
      "cell_type": "code",
      "source": [
        "print(model.genes[0])\n",
        "print(model.genes[367])"
      ],
      "metadata": {
        "id": "4LMvRHUS89YZ",
        "colab": {
          "base_uri": "https://localhost:8080/"
        },
        "outputId": "1fb73cd7-eedc-412b-cad1-9062146fb4c7"
      },
      "id": "4LMvRHUS89YZ",
      "execution_count": 65,
      "outputs": [
        {
          "output_type": "stream",
          "name": "stdout",
          "text": [
            "Q0045\n",
            "YGR208W\n"
          ]
        }
      ]
    },
    {
      "cell_type": "markdown",
      "source": [
        "## 5.2 adjusted model with downregulated genes KO"
      ],
      "metadata": {
        "id": "wkT4RSynTbQN"
      },
      "id": "wkT4RSynTbQN"
    },
    {
      "cell_type": "code",
      "source": [
        "import json\n",
        "with open('/content/doubleKO_adjusted_dn.json', 'r') as f:\n",
        "    new_str = json.load(f)\n",
        "df_dn = pandas.read_json(new_str)\n",
        "df_dn.sort_values(\"min production\", ascending = False)"
      ],
      "metadata": {
        "id": "zf1aydaATmnu",
        "colab": {
          "base_uri": "https://localhost:8080/",
          "height": 424
        },
        "outputId": "96497bee-c3c4-421d-a2a3-1d7aa462a420"
      },
      "id": "zf1aydaATmnu",
      "execution_count": 66,
      "outputs": [
        {
          "output_type": "execute_result",
          "data": {
            "text/plain": [
              "           i     j  KO growth  min production  max production\n",
              "245710   238   690          0             0.1            1.06\n",
              "245548   238   528          0             0.1            1.06\n",
              "142562   131   690          0             0.1            1.06\n",
              "7038       6   166          0             0.1            1.06\n",
              "6419       5   690          0             0.1            1.06\n",
              "...      ...   ...        ...             ...             ...\n",
              "660672  1147  1148          0             0.0            2.00\n",
              "660673  1147  1149          0             0.0            2.00\n",
              "660657  1143  1147          0             0.0            2.00\n",
              "660655  1143  1145          0             0.0            2.00\n",
              "660674  1148  1149          0             0.0            2.00\n",
              "\n",
              "[660675 rows x 5 columns]"
            ],
            "text/html": [
              "\n",
              "  <div id=\"df-c2701622-2565-4605-afd2-d3d047807fb9\">\n",
              "    <div class=\"colab-df-container\">\n",
              "      <div>\n",
              "<style scoped>\n",
              "    .dataframe tbody tr th:only-of-type {\n",
              "        vertical-align: middle;\n",
              "    }\n",
              "\n",
              "    .dataframe tbody tr th {\n",
              "        vertical-align: top;\n",
              "    }\n",
              "\n",
              "    .dataframe thead th {\n",
              "        text-align: right;\n",
              "    }\n",
              "</style>\n",
              "<table border=\"1\" class=\"dataframe\">\n",
              "  <thead>\n",
              "    <tr style=\"text-align: right;\">\n",
              "      <th></th>\n",
              "      <th>i</th>\n",
              "      <th>j</th>\n",
              "      <th>KO growth</th>\n",
              "      <th>min production</th>\n",
              "      <th>max production</th>\n",
              "    </tr>\n",
              "  </thead>\n",
              "  <tbody>\n",
              "    <tr>\n",
              "      <th>245710</th>\n",
              "      <td>238</td>\n",
              "      <td>690</td>\n",
              "      <td>0</td>\n",
              "      <td>0.1</td>\n",
              "      <td>1.06</td>\n",
              "    </tr>\n",
              "    <tr>\n",
              "      <th>245548</th>\n",
              "      <td>238</td>\n",
              "      <td>528</td>\n",
              "      <td>0</td>\n",
              "      <td>0.1</td>\n",
              "      <td>1.06</td>\n",
              "    </tr>\n",
              "    <tr>\n",
              "      <th>142562</th>\n",
              "      <td>131</td>\n",
              "      <td>690</td>\n",
              "      <td>0</td>\n",
              "      <td>0.1</td>\n",
              "      <td>1.06</td>\n",
              "    </tr>\n",
              "    <tr>\n",
              "      <th>7038</th>\n",
              "      <td>6</td>\n",
              "      <td>166</td>\n",
              "      <td>0</td>\n",
              "      <td>0.1</td>\n",
              "      <td>1.06</td>\n",
              "    </tr>\n",
              "    <tr>\n",
              "      <th>6419</th>\n",
              "      <td>5</td>\n",
              "      <td>690</td>\n",
              "      <td>0</td>\n",
              "      <td>0.1</td>\n",
              "      <td>1.06</td>\n",
              "    </tr>\n",
              "    <tr>\n",
              "      <th>...</th>\n",
              "      <td>...</td>\n",
              "      <td>...</td>\n",
              "      <td>...</td>\n",
              "      <td>...</td>\n",
              "      <td>...</td>\n",
              "    </tr>\n",
              "    <tr>\n",
              "      <th>660672</th>\n",
              "      <td>1147</td>\n",
              "      <td>1148</td>\n",
              "      <td>0</td>\n",
              "      <td>0.0</td>\n",
              "      <td>2.00</td>\n",
              "    </tr>\n",
              "    <tr>\n",
              "      <th>660673</th>\n",
              "      <td>1147</td>\n",
              "      <td>1149</td>\n",
              "      <td>0</td>\n",
              "      <td>0.0</td>\n",
              "      <td>2.00</td>\n",
              "    </tr>\n",
              "    <tr>\n",
              "      <th>660657</th>\n",
              "      <td>1143</td>\n",
              "      <td>1147</td>\n",
              "      <td>0</td>\n",
              "      <td>0.0</td>\n",
              "      <td>2.00</td>\n",
              "    </tr>\n",
              "    <tr>\n",
              "      <th>660655</th>\n",
              "      <td>1143</td>\n",
              "      <td>1145</td>\n",
              "      <td>0</td>\n",
              "      <td>0.0</td>\n",
              "      <td>2.00</td>\n",
              "    </tr>\n",
              "    <tr>\n",
              "      <th>660674</th>\n",
              "      <td>1148</td>\n",
              "      <td>1149</td>\n",
              "      <td>0</td>\n",
              "      <td>0.0</td>\n",
              "      <td>2.00</td>\n",
              "    </tr>\n",
              "  </tbody>\n",
              "</table>\n",
              "<p>660675 rows × 5 columns</p>\n",
              "</div>\n",
              "      <button class=\"colab-df-convert\" onclick=\"convertToInteractive('df-c2701622-2565-4605-afd2-d3d047807fb9')\"\n",
              "              title=\"Convert this dataframe to an interactive table.\"\n",
              "              style=\"display:none;\">\n",
              "        \n",
              "  <svg xmlns=\"http://www.w3.org/2000/svg\" height=\"24px\"viewBox=\"0 0 24 24\"\n",
              "       width=\"24px\">\n",
              "    <path d=\"M0 0h24v24H0V0z\" fill=\"none\"/>\n",
              "    <path d=\"M18.56 5.44l.94 2.06.94-2.06 2.06-.94-2.06-.94-.94-2.06-.94 2.06-2.06.94zm-11 1L8.5 8.5l.94-2.06 2.06-.94-2.06-.94L8.5 2.5l-.94 2.06-2.06.94zm10 10l.94 2.06.94-2.06 2.06-.94-2.06-.94-.94-2.06-.94 2.06-2.06.94z\"/><path d=\"M17.41 7.96l-1.37-1.37c-.4-.4-.92-.59-1.43-.59-.52 0-1.04.2-1.43.59L10.3 9.45l-7.72 7.72c-.78.78-.78 2.05 0 2.83L4 21.41c.39.39.9.59 1.41.59.51 0 1.02-.2 1.41-.59l7.78-7.78 2.81-2.81c.8-.78.8-2.07 0-2.86zM5.41 20L4 18.59l7.72-7.72 1.47 1.35L5.41 20z\"/>\n",
              "  </svg>\n",
              "      </button>\n",
              "      \n",
              "  <style>\n",
              "    .colab-df-container {\n",
              "      display:flex;\n",
              "      flex-wrap:wrap;\n",
              "      gap: 12px;\n",
              "    }\n",
              "\n",
              "    .colab-df-convert {\n",
              "      background-color: #E8F0FE;\n",
              "      border: none;\n",
              "      border-radius: 50%;\n",
              "      cursor: pointer;\n",
              "      display: none;\n",
              "      fill: #1967D2;\n",
              "      height: 32px;\n",
              "      padding: 0 0 0 0;\n",
              "      width: 32px;\n",
              "    }\n",
              "\n",
              "    .colab-df-convert:hover {\n",
              "      background-color: #E2EBFA;\n",
              "      box-shadow: 0px 1px 2px rgba(60, 64, 67, 0.3), 0px 1px 3px 1px rgba(60, 64, 67, 0.15);\n",
              "      fill: #174EA6;\n",
              "    }\n",
              "\n",
              "    [theme=dark] .colab-df-convert {\n",
              "      background-color: #3B4455;\n",
              "      fill: #D2E3FC;\n",
              "    }\n",
              "\n",
              "    [theme=dark] .colab-df-convert:hover {\n",
              "      background-color: #434B5C;\n",
              "      box-shadow: 0px 1px 3px 1px rgba(0, 0, 0, 0.15);\n",
              "      filter: drop-shadow(0px 1px 2px rgba(0, 0, 0, 0.3));\n",
              "      fill: #FFFFFF;\n",
              "    }\n",
              "  </style>\n",
              "\n",
              "      <script>\n",
              "        const buttonEl =\n",
              "          document.querySelector('#df-c2701622-2565-4605-afd2-d3d047807fb9 button.colab-df-convert');\n",
              "        buttonEl.style.display =\n",
              "          google.colab.kernel.accessAllowed ? 'block' : 'none';\n",
              "\n",
              "        async function convertToInteractive(key) {\n",
              "          const element = document.querySelector('#df-c2701622-2565-4605-afd2-d3d047807fb9');\n",
              "          const dataTable =\n",
              "            await google.colab.kernel.invokeFunction('convertToInteractive',\n",
              "                                                     [key], {});\n",
              "          if (!dataTable) return;\n",
              "\n",
              "          const docLinkHtml = 'Like what you see? Visit the ' +\n",
              "            '<a target=\"_blank\" href=https://colab.research.google.com/notebooks/data_table.ipynb>data table notebook</a>'\n",
              "            + ' to learn more about interactive tables.';\n",
              "          element.innerHTML = '';\n",
              "          dataTable['output_type'] = 'display_data';\n",
              "          await google.colab.output.renderOutput(dataTable, element);\n",
              "          const docLink = document.createElement('div');\n",
              "          docLink.innerHTML = docLinkHtml;\n",
              "          element.appendChild(docLink);\n",
              "        }\n",
              "      </script>\n",
              "    </div>\n",
              "  </div>\n",
              "  "
            ]
          },
          "metadata": {},
          "execution_count": 66
        }
      ]
    },
    {
      "cell_type": "code",
      "source": [
        "df_gene_dn = df_dn.loc[df_dn[\"min production\"] >= 0.1]\n",
        "df_gene_dn.sort_values(\"min production\",ascending = False)"
      ],
      "metadata": {
        "id": "_aAdZiP3Zw_n",
        "colab": {
          "base_uri": "https://localhost:8080/",
          "height": 1000
        },
        "outputId": "f920e191-2d67-4085-d4dd-269a930d032d"
      },
      "id": "_aAdZiP3Zw_n",
      "execution_count": 67,
      "outputs": [
        {
          "output_type": "execute_result",
          "data": {
            "text/plain": [
              "          i    j  KO growth  min production  max production\n",
              "245710  238  690          0             0.1            1.06\n",
              "142562  131  690          0             0.1            1.06\n",
              "6419      5  690          0             0.1            1.06\n",
              "7562      6  690          0             0.1            1.06\n",
              "4130      3  690          0             0.1            1.06\n",
              "29089    25  690          0             0.1            1.06\n",
              "239312  231  690          0             0.1            1.06\n",
              "348560  359  690          0             0.1            1.06\n",
              "467804  528  789          0             0.1            1.06\n",
              "299228  299  528          0             0.1            1.06\n",
              "348398  359  528          0             0.1            1.06\n",
              "28927    25  528          0             0.1            1.06\n",
              "142038  131  166          0             0.1            1.06\n",
              "555203  690  789          0             0.1            1.06\n",
              "373150  391  528          0             0.1            1.06\n",
              "245548  238  528          0             0.1            1.06\n",
              "239150  231  528          0             0.1            1.06\n",
              "165       0  166          0             0.1            1.06\n",
              "435938  479  528          0             0.1            1.06\n",
              "7400      6  528          0             0.1            1.06\n",
              "299390  299  690          0             0.1            1.06\n",
              "555321  690  907          0             0.1            1.06\n",
              "373312  391  690          0             0.1            1.06\n",
              "467922  528  907          0             0.1            1.06\n",
              "5895      5  166          0             0.1            1.06\n",
              "6257      5  528          0             0.1            1.06\n",
              "436100  479  690          0             0.1            1.06\n",
              "527       0  528          0             0.1            1.06\n",
              "689       0  690          0             0.1            1.06\n",
              "3968      3  528          0             0.1            1.06\n",
              "142400  131  528          0             0.1            1.06\n",
              "7038      6  166          0             0.1            1.06"
            ],
            "text/html": [
              "\n",
              "  <div id=\"df-abf118d6-85ca-4e15-9918-4873c7a23641\">\n",
              "    <div class=\"colab-df-container\">\n",
              "      <div>\n",
              "<style scoped>\n",
              "    .dataframe tbody tr th:only-of-type {\n",
              "        vertical-align: middle;\n",
              "    }\n",
              "\n",
              "    .dataframe tbody tr th {\n",
              "        vertical-align: top;\n",
              "    }\n",
              "\n",
              "    .dataframe thead th {\n",
              "        text-align: right;\n",
              "    }\n",
              "</style>\n",
              "<table border=\"1\" class=\"dataframe\">\n",
              "  <thead>\n",
              "    <tr style=\"text-align: right;\">\n",
              "      <th></th>\n",
              "      <th>i</th>\n",
              "      <th>j</th>\n",
              "      <th>KO growth</th>\n",
              "      <th>min production</th>\n",
              "      <th>max production</th>\n",
              "    </tr>\n",
              "  </thead>\n",
              "  <tbody>\n",
              "    <tr>\n",
              "      <th>245710</th>\n",
              "      <td>238</td>\n",
              "      <td>690</td>\n",
              "      <td>0</td>\n",
              "      <td>0.1</td>\n",
              "      <td>1.06</td>\n",
              "    </tr>\n",
              "    <tr>\n",
              "      <th>142562</th>\n",
              "      <td>131</td>\n",
              "      <td>690</td>\n",
              "      <td>0</td>\n",
              "      <td>0.1</td>\n",
              "      <td>1.06</td>\n",
              "    </tr>\n",
              "    <tr>\n",
              "      <th>6419</th>\n",
              "      <td>5</td>\n",
              "      <td>690</td>\n",
              "      <td>0</td>\n",
              "      <td>0.1</td>\n",
              "      <td>1.06</td>\n",
              "    </tr>\n",
              "    <tr>\n",
              "      <th>7562</th>\n",
              "      <td>6</td>\n",
              "      <td>690</td>\n",
              "      <td>0</td>\n",
              "      <td>0.1</td>\n",
              "      <td>1.06</td>\n",
              "    </tr>\n",
              "    <tr>\n",
              "      <th>4130</th>\n",
              "      <td>3</td>\n",
              "      <td>690</td>\n",
              "      <td>0</td>\n",
              "      <td>0.1</td>\n",
              "      <td>1.06</td>\n",
              "    </tr>\n",
              "    <tr>\n",
              "      <th>29089</th>\n",
              "      <td>25</td>\n",
              "      <td>690</td>\n",
              "      <td>0</td>\n",
              "      <td>0.1</td>\n",
              "      <td>1.06</td>\n",
              "    </tr>\n",
              "    <tr>\n",
              "      <th>239312</th>\n",
              "      <td>231</td>\n",
              "      <td>690</td>\n",
              "      <td>0</td>\n",
              "      <td>0.1</td>\n",
              "      <td>1.06</td>\n",
              "    </tr>\n",
              "    <tr>\n",
              "      <th>348560</th>\n",
              "      <td>359</td>\n",
              "      <td>690</td>\n",
              "      <td>0</td>\n",
              "      <td>0.1</td>\n",
              "      <td>1.06</td>\n",
              "    </tr>\n",
              "    <tr>\n",
              "      <th>467804</th>\n",
              "      <td>528</td>\n",
              "      <td>789</td>\n",
              "      <td>0</td>\n",
              "      <td>0.1</td>\n",
              "      <td>1.06</td>\n",
              "    </tr>\n",
              "    <tr>\n",
              "      <th>299228</th>\n",
              "      <td>299</td>\n",
              "      <td>528</td>\n",
              "      <td>0</td>\n",
              "      <td>0.1</td>\n",
              "      <td>1.06</td>\n",
              "    </tr>\n",
              "    <tr>\n",
              "      <th>348398</th>\n",
              "      <td>359</td>\n",
              "      <td>528</td>\n",
              "      <td>0</td>\n",
              "      <td>0.1</td>\n",
              "      <td>1.06</td>\n",
              "    </tr>\n",
              "    <tr>\n",
              "      <th>28927</th>\n",
              "      <td>25</td>\n",
              "      <td>528</td>\n",
              "      <td>0</td>\n",
              "      <td>0.1</td>\n",
              "      <td>1.06</td>\n",
              "    </tr>\n",
              "    <tr>\n",
              "      <th>142038</th>\n",
              "      <td>131</td>\n",
              "      <td>166</td>\n",
              "      <td>0</td>\n",
              "      <td>0.1</td>\n",
              "      <td>1.06</td>\n",
              "    </tr>\n",
              "    <tr>\n",
              "      <th>555203</th>\n",
              "      <td>690</td>\n",
              "      <td>789</td>\n",
              "      <td>0</td>\n",
              "      <td>0.1</td>\n",
              "      <td>1.06</td>\n",
              "    </tr>\n",
              "    <tr>\n",
              "      <th>373150</th>\n",
              "      <td>391</td>\n",
              "      <td>528</td>\n",
              "      <td>0</td>\n",
              "      <td>0.1</td>\n",
              "      <td>1.06</td>\n",
              "    </tr>\n",
              "    <tr>\n",
              "      <th>245548</th>\n",
              "      <td>238</td>\n",
              "      <td>528</td>\n",
              "      <td>0</td>\n",
              "      <td>0.1</td>\n",
              "      <td>1.06</td>\n",
              "    </tr>\n",
              "    <tr>\n",
              "      <th>239150</th>\n",
              "      <td>231</td>\n",
              "      <td>528</td>\n",
              "      <td>0</td>\n",
              "      <td>0.1</td>\n",
              "      <td>1.06</td>\n",
              "    </tr>\n",
              "    <tr>\n",
              "      <th>165</th>\n",
              "      <td>0</td>\n",
              "      <td>166</td>\n",
              "      <td>0</td>\n",
              "      <td>0.1</td>\n",
              "      <td>1.06</td>\n",
              "    </tr>\n",
              "    <tr>\n",
              "      <th>435938</th>\n",
              "      <td>479</td>\n",
              "      <td>528</td>\n",
              "      <td>0</td>\n",
              "      <td>0.1</td>\n",
              "      <td>1.06</td>\n",
              "    </tr>\n",
              "    <tr>\n",
              "      <th>7400</th>\n",
              "      <td>6</td>\n",
              "      <td>528</td>\n",
              "      <td>0</td>\n",
              "      <td>0.1</td>\n",
              "      <td>1.06</td>\n",
              "    </tr>\n",
              "    <tr>\n",
              "      <th>299390</th>\n",
              "      <td>299</td>\n",
              "      <td>690</td>\n",
              "      <td>0</td>\n",
              "      <td>0.1</td>\n",
              "      <td>1.06</td>\n",
              "    </tr>\n",
              "    <tr>\n",
              "      <th>555321</th>\n",
              "      <td>690</td>\n",
              "      <td>907</td>\n",
              "      <td>0</td>\n",
              "      <td>0.1</td>\n",
              "      <td>1.06</td>\n",
              "    </tr>\n",
              "    <tr>\n",
              "      <th>373312</th>\n",
              "      <td>391</td>\n",
              "      <td>690</td>\n",
              "      <td>0</td>\n",
              "      <td>0.1</td>\n",
              "      <td>1.06</td>\n",
              "    </tr>\n",
              "    <tr>\n",
              "      <th>467922</th>\n",
              "      <td>528</td>\n",
              "      <td>907</td>\n",
              "      <td>0</td>\n",
              "      <td>0.1</td>\n",
              "      <td>1.06</td>\n",
              "    </tr>\n",
              "    <tr>\n",
              "      <th>5895</th>\n",
              "      <td>5</td>\n",
              "      <td>166</td>\n",
              "      <td>0</td>\n",
              "      <td>0.1</td>\n",
              "      <td>1.06</td>\n",
              "    </tr>\n",
              "    <tr>\n",
              "      <th>6257</th>\n",
              "      <td>5</td>\n",
              "      <td>528</td>\n",
              "      <td>0</td>\n",
              "      <td>0.1</td>\n",
              "      <td>1.06</td>\n",
              "    </tr>\n",
              "    <tr>\n",
              "      <th>436100</th>\n",
              "      <td>479</td>\n",
              "      <td>690</td>\n",
              "      <td>0</td>\n",
              "      <td>0.1</td>\n",
              "      <td>1.06</td>\n",
              "    </tr>\n",
              "    <tr>\n",
              "      <th>527</th>\n",
              "      <td>0</td>\n",
              "      <td>528</td>\n",
              "      <td>0</td>\n",
              "      <td>0.1</td>\n",
              "      <td>1.06</td>\n",
              "    </tr>\n",
              "    <tr>\n",
              "      <th>689</th>\n",
              "      <td>0</td>\n",
              "      <td>690</td>\n",
              "      <td>0</td>\n",
              "      <td>0.1</td>\n",
              "      <td>1.06</td>\n",
              "    </tr>\n",
              "    <tr>\n",
              "      <th>3968</th>\n",
              "      <td>3</td>\n",
              "      <td>528</td>\n",
              "      <td>0</td>\n",
              "      <td>0.1</td>\n",
              "      <td>1.06</td>\n",
              "    </tr>\n",
              "    <tr>\n",
              "      <th>142400</th>\n",
              "      <td>131</td>\n",
              "      <td>528</td>\n",
              "      <td>0</td>\n",
              "      <td>0.1</td>\n",
              "      <td>1.06</td>\n",
              "    </tr>\n",
              "    <tr>\n",
              "      <th>7038</th>\n",
              "      <td>6</td>\n",
              "      <td>166</td>\n",
              "      <td>0</td>\n",
              "      <td>0.1</td>\n",
              "      <td>1.06</td>\n",
              "    </tr>\n",
              "  </tbody>\n",
              "</table>\n",
              "</div>\n",
              "      <button class=\"colab-df-convert\" onclick=\"convertToInteractive('df-abf118d6-85ca-4e15-9918-4873c7a23641')\"\n",
              "              title=\"Convert this dataframe to an interactive table.\"\n",
              "              style=\"display:none;\">\n",
              "        \n",
              "  <svg xmlns=\"http://www.w3.org/2000/svg\" height=\"24px\"viewBox=\"0 0 24 24\"\n",
              "       width=\"24px\">\n",
              "    <path d=\"M0 0h24v24H0V0z\" fill=\"none\"/>\n",
              "    <path d=\"M18.56 5.44l.94 2.06.94-2.06 2.06-.94-2.06-.94-.94-2.06-.94 2.06-2.06.94zm-11 1L8.5 8.5l.94-2.06 2.06-.94-2.06-.94L8.5 2.5l-.94 2.06-2.06.94zm10 10l.94 2.06.94-2.06 2.06-.94-2.06-.94-.94-2.06-.94 2.06-2.06.94z\"/><path d=\"M17.41 7.96l-1.37-1.37c-.4-.4-.92-.59-1.43-.59-.52 0-1.04.2-1.43.59L10.3 9.45l-7.72 7.72c-.78.78-.78 2.05 0 2.83L4 21.41c.39.39.9.59 1.41.59.51 0 1.02-.2 1.41-.59l7.78-7.78 2.81-2.81c.8-.78.8-2.07 0-2.86zM5.41 20L4 18.59l7.72-7.72 1.47 1.35L5.41 20z\"/>\n",
              "  </svg>\n",
              "      </button>\n",
              "      \n",
              "  <style>\n",
              "    .colab-df-container {\n",
              "      display:flex;\n",
              "      flex-wrap:wrap;\n",
              "      gap: 12px;\n",
              "    }\n",
              "\n",
              "    .colab-df-convert {\n",
              "      background-color: #E8F0FE;\n",
              "      border: none;\n",
              "      border-radius: 50%;\n",
              "      cursor: pointer;\n",
              "      display: none;\n",
              "      fill: #1967D2;\n",
              "      height: 32px;\n",
              "      padding: 0 0 0 0;\n",
              "      width: 32px;\n",
              "    }\n",
              "\n",
              "    .colab-df-convert:hover {\n",
              "      background-color: #E2EBFA;\n",
              "      box-shadow: 0px 1px 2px rgba(60, 64, 67, 0.3), 0px 1px 3px 1px rgba(60, 64, 67, 0.15);\n",
              "      fill: #174EA6;\n",
              "    }\n",
              "\n",
              "    [theme=dark] .colab-df-convert {\n",
              "      background-color: #3B4455;\n",
              "      fill: #D2E3FC;\n",
              "    }\n",
              "\n",
              "    [theme=dark] .colab-df-convert:hover {\n",
              "      background-color: #434B5C;\n",
              "      box-shadow: 0px 1px 3px 1px rgba(0, 0, 0, 0.15);\n",
              "      filter: drop-shadow(0px 1px 2px rgba(0, 0, 0, 0.3));\n",
              "      fill: #FFFFFF;\n",
              "    }\n",
              "  </style>\n",
              "\n",
              "      <script>\n",
              "        const buttonEl =\n",
              "          document.querySelector('#df-abf118d6-85ca-4e15-9918-4873c7a23641 button.colab-df-convert');\n",
              "        buttonEl.style.display =\n",
              "          google.colab.kernel.accessAllowed ? 'block' : 'none';\n",
              "\n",
              "        async function convertToInteractive(key) {\n",
              "          const element = document.querySelector('#df-abf118d6-85ca-4e15-9918-4873c7a23641');\n",
              "          const dataTable =\n",
              "            await google.colab.kernel.invokeFunction('convertToInteractive',\n",
              "                                                     [key], {});\n",
              "          if (!dataTable) return;\n",
              "\n",
              "          const docLinkHtml = 'Like what you see? Visit the ' +\n",
              "            '<a target=\"_blank\" href=https://colab.research.google.com/notebooks/data_table.ipynb>data table notebook</a>'\n",
              "            + ' to learn more about interactive tables.';\n",
              "          element.innerHTML = '';\n",
              "          dataTable['output_type'] = 'display_data';\n",
              "          await google.colab.output.renderOutput(dataTable, element);\n",
              "          const docLink = document.createElement('div');\n",
              "          docLink.innerHTML = docLinkHtml;\n",
              "          element.appendChild(docLink);\n",
              "        }\n",
              "      </script>\n",
              "    </div>\n",
              "  </div>\n",
              "  "
            ]
          },
          "metadata": {},
          "execution_count": 67
        }
      ]
    },
    {
      "cell_type": "code",
      "source": [
        "len(df_dn.loc[df_dn[\"min production\"] > 0])\n"
      ],
      "metadata": {
        "colab": {
          "base_uri": "https://localhost:8080/"
        },
        "id": "XHnYSYSRYlvW",
        "outputId": "5db335ef-a9fb-4dfe-e57d-f9487f052634"
      },
      "id": "XHnYSYSRYlvW",
      "execution_count": 68,
      "outputs": [
        {
          "output_type": "execute_result",
          "data": {
            "text/plain": [
              "32"
            ]
          },
          "metadata": {},
          "execution_count": 68
        }
      ]
    },
    {
      "cell_type": "code",
      "source": [
        "len(df_gene_dn)"
      ],
      "metadata": {
        "colab": {
          "base_uri": "https://localhost:8080/"
        },
        "id": "AnG9MCtaQnnF",
        "outputId": "fc3771de-416c-445d-a105-5ea0dd5420eb"
      },
      "id": "AnG9MCtaQnnF",
      "execution_count": 69,
      "outputs": [
        {
          "output_type": "execute_result",
          "data": {
            "text/plain": [
              "32"
            ]
          },
          "metadata": {},
          "execution_count": 69
        }
      ]
    },
    {
      "cell_type": "code",
      "source": [
        "i_gene_dn = df_gene_dn[\"i\"].tolist()\n",
        "j_gene_dn = df_gene_dn[\"j\"].tolist()\n",
        "gene_list_dn = j_gene_dn + i_gene_dn"
      ],
      "metadata": {
        "id": "xzlym3r5Z2tK"
      },
      "id": "xzlym3r5Z2tK",
      "execution_count": 70,
      "outputs": []
    },
    {
      "cell_type": "code",
      "source": [
        "from collections import Counter\n",
        "c_dn = Counter(gene_list_dn)\n",
        "print(c_dn.most_common(5))"
      ],
      "metadata": {
        "id": "1x4sl_hDZ4qK",
        "colab": {
          "base_uri": "https://localhost:8080/"
        },
        "outputId": "e5d121c8-8727-4113-9654-d521bec805d0"
      },
      "id": "1x4sl_hDZ4qK",
      "execution_count": 71,
      "outputs": [
        {
          "output_type": "stream",
          "name": "stdout",
          "text": [
            "[(690, 14), (528, 14), (166, 4), (131, 3), (0, 3)]\n"
          ]
        }
      ]
    },
    {
      "cell_type": "code",
      "source": [
        "print(model.genes[690])\n",
        "print(model.genes[528])\n",
        "print(model.genes[166])\n",
        "print(model.genes[131])\n",
        "print(model.genes[0])"
      ],
      "metadata": {
        "id": "F8C-qnuUcYri",
        "colab": {
          "base_uri": "https://localhost:8080/"
        },
        "outputId": "4acbf726-c46d-4cb9-c514-c3f5942ba737"
      },
      "id": "F8C-qnuUcYri",
      "execution_count": 72,
      "outputs": [
        {
          "output_type": "stream",
          "name": "stdout",
          "text": [
            "YMR205C\n",
            "YKL060C\n",
            "YDR050C\n",
            "YDL067C\n",
            "Q0045\n"
          ]
        }
      ]
    },
    {
      "cell_type": "code",
      "source": [
        "print(\"4 best gene pairs:\")\n",
        "for gene_num in range(4):\n",
        "  print(str(model.genes[i_gene_dn[gene_num]]) + \" and \" + str(model.genes[j_gene_dn[gene_num]]))"
      ],
      "metadata": {
        "id": "u0dLQ-zxf9wr"
      },
      "id": "u0dLQ-zxf9wr",
      "execution_count": null,
      "outputs": []
    },
    {
      "cell_type": "markdown",
      "source": [
        "plotting"
      ],
      "metadata": {
        "id": "e1wGBKN6d-mG"
      },
      "id": "e1wGBKN6d-mG"
    },
    {
      "cell_type": "code",
      "source": [
        "wt_solution = model_alc3.optimize()\n",
        "print(wt_solution.objective_value)"
      ],
      "metadata": {
        "colab": {
          "base_uri": "https://localhost:8080/"
        },
        "id": "7BL18kipd4w7",
        "outputId": "f06fb769-68cb-40db-832d-03a4fc73b4cb"
      },
      "id": "7BL18kipd4w7",
      "execution_count": 74,
      "outputs": [
        {
          "output_type": "stream",
          "name": "stdout",
          "text": [
            "-2.7200032349665246e-16\n"
          ]
        }
      ]
    },
    {
      "cell_type": "code",
      "source": [
        "number_of_genes = len(model_alc3.genes)\n",
        "print(number_of_genes)"
      ],
      "metadata": {
        "colab": {
          "base_uri": "https://localhost:8080/"
        },
        "id": "TWXdaPhQd6au",
        "outputId": "7b4bffd4-1e2c-440a-e73f-7f6e0f201d2d"
      },
      "id": "TWXdaPhQd6au",
      "execution_count": 75,
      "outputs": [
        {
          "output_type": "stream",
          "name": "stdout",
          "text": [
            "1150\n"
          ]
        }
      ]
    },
    {
      "cell_type": "markdown",
      "source": [
        "## 5.3 adjusted model with upregulated genes"
      ],
      "metadata": {
        "id": "4AepgMKc0Zyt"
      },
      "id": "4AepgMKc0Zyt"
    },
    {
      "cell_type": "code",
      "source": [
        "import json\n",
        "with open('/content/doubleKO_adjusted_up.json', 'r') as f:\n",
        "    new_str = json.load(f)\n",
        "df_up = pandas.read_json(new_str)\n",
        "df_up.sort_values(\"min production\", ascending = False)"
      ],
      "metadata": {
        "id": "-FPCmdM70hrb"
      },
      "id": "-FPCmdM70hrb",
      "execution_count": null,
      "outputs": []
    },
    {
      "cell_type": "code",
      "source": [
        "df_gene_up = df_up.loc[df_up[\"min production\"] >= 1.8]\n",
        "df_gene_up.sort_values(\"min production\",ascending = False)"
      ],
      "metadata": {
        "id": "wQK2d0Zz0nQB",
        "colab": {
          "base_uri": "https://localhost:8080/",
          "height": 424
        },
        "outputId": "bfedda23-dad4-4afa-eea5-6a613bad8eaa"
      },
      "id": "wQK2d0Zz0nQB",
      "execution_count": 87,
      "outputs": [
        {
          "output_type": "execute_result",
          "data": {
            "text/plain": [
              "          i    j  KO growth  min production  max production\n",
              "6096      5  367   0.011881        1.817701        1.817701\n",
              "7239      6  367   0.011881        1.817701        1.817701\n",
              "6542      5  813   0.011881        1.817701        1.817701\n",
              "7685      6  813   0.011881        1.817701        1.817701\n",
              "366       0  367   0.011881        1.817700        1.817700\n",
              "...     ...  ...        ...             ...             ...\n",
              "299498  299  798   0.012050        1.801073        1.801073\n",
              "599007  798  907   0.012050        1.801073        1.801073\n",
              "4238      3  798   0.012050        1.801073        1.801073\n",
              "373420  391  798   0.012050        1.801073        1.801073\n",
              "29197    25  798   0.012050        1.800435        1.801079\n",
              "\n",
              "[9527 rows x 5 columns]"
            ],
            "text/html": [
              "\n",
              "  <div id=\"df-e04038fb-24ce-467c-a345-dd202a960ab1\">\n",
              "    <div class=\"colab-df-container\">\n",
              "      <div>\n",
              "<style scoped>\n",
              "    .dataframe tbody tr th:only-of-type {\n",
              "        vertical-align: middle;\n",
              "    }\n",
              "\n",
              "    .dataframe tbody tr th {\n",
              "        vertical-align: top;\n",
              "    }\n",
              "\n",
              "    .dataframe thead th {\n",
              "        text-align: right;\n",
              "    }\n",
              "</style>\n",
              "<table border=\"1\" class=\"dataframe\">\n",
              "  <thead>\n",
              "    <tr style=\"text-align: right;\">\n",
              "      <th></th>\n",
              "      <th>i</th>\n",
              "      <th>j</th>\n",
              "      <th>KO growth</th>\n",
              "      <th>min production</th>\n",
              "      <th>max production</th>\n",
              "    </tr>\n",
              "  </thead>\n",
              "  <tbody>\n",
              "    <tr>\n",
              "      <th>6096</th>\n",
              "      <td>5</td>\n",
              "      <td>367</td>\n",
              "      <td>0.011881</td>\n",
              "      <td>1.817701</td>\n",
              "      <td>1.817701</td>\n",
              "    </tr>\n",
              "    <tr>\n",
              "      <th>7239</th>\n",
              "      <td>6</td>\n",
              "      <td>367</td>\n",
              "      <td>0.011881</td>\n",
              "      <td>1.817701</td>\n",
              "      <td>1.817701</td>\n",
              "    </tr>\n",
              "    <tr>\n",
              "      <th>6542</th>\n",
              "      <td>5</td>\n",
              "      <td>813</td>\n",
              "      <td>0.011881</td>\n",
              "      <td>1.817701</td>\n",
              "      <td>1.817701</td>\n",
              "    </tr>\n",
              "    <tr>\n",
              "      <th>7685</th>\n",
              "      <td>6</td>\n",
              "      <td>813</td>\n",
              "      <td>0.011881</td>\n",
              "      <td>1.817701</td>\n",
              "      <td>1.817701</td>\n",
              "    </tr>\n",
              "    <tr>\n",
              "      <th>366</th>\n",
              "      <td>0</td>\n",
              "      <td>367</td>\n",
              "      <td>0.011881</td>\n",
              "      <td>1.817700</td>\n",
              "      <td>1.817700</td>\n",
              "    </tr>\n",
              "    <tr>\n",
              "      <th>...</th>\n",
              "      <td>...</td>\n",
              "      <td>...</td>\n",
              "      <td>...</td>\n",
              "      <td>...</td>\n",
              "      <td>...</td>\n",
              "    </tr>\n",
              "    <tr>\n",
              "      <th>299498</th>\n",
              "      <td>299</td>\n",
              "      <td>798</td>\n",
              "      <td>0.012050</td>\n",
              "      <td>1.801073</td>\n",
              "      <td>1.801073</td>\n",
              "    </tr>\n",
              "    <tr>\n",
              "      <th>599007</th>\n",
              "      <td>798</td>\n",
              "      <td>907</td>\n",
              "      <td>0.012050</td>\n",
              "      <td>1.801073</td>\n",
              "      <td>1.801073</td>\n",
              "    </tr>\n",
              "    <tr>\n",
              "      <th>4238</th>\n",
              "      <td>3</td>\n",
              "      <td>798</td>\n",
              "      <td>0.012050</td>\n",
              "      <td>1.801073</td>\n",
              "      <td>1.801073</td>\n",
              "    </tr>\n",
              "    <tr>\n",
              "      <th>373420</th>\n",
              "      <td>391</td>\n",
              "      <td>798</td>\n",
              "      <td>0.012050</td>\n",
              "      <td>1.801073</td>\n",
              "      <td>1.801073</td>\n",
              "    </tr>\n",
              "    <tr>\n",
              "      <th>29197</th>\n",
              "      <td>25</td>\n",
              "      <td>798</td>\n",
              "      <td>0.012050</td>\n",
              "      <td>1.800435</td>\n",
              "      <td>1.801079</td>\n",
              "    </tr>\n",
              "  </tbody>\n",
              "</table>\n",
              "<p>9527 rows × 5 columns</p>\n",
              "</div>\n",
              "      <button class=\"colab-df-convert\" onclick=\"convertToInteractive('df-e04038fb-24ce-467c-a345-dd202a960ab1')\"\n",
              "              title=\"Convert this dataframe to an interactive table.\"\n",
              "              style=\"display:none;\">\n",
              "        \n",
              "  <svg xmlns=\"http://www.w3.org/2000/svg\" height=\"24px\"viewBox=\"0 0 24 24\"\n",
              "       width=\"24px\">\n",
              "    <path d=\"M0 0h24v24H0V0z\" fill=\"none\"/>\n",
              "    <path d=\"M18.56 5.44l.94 2.06.94-2.06 2.06-.94-2.06-.94-.94-2.06-.94 2.06-2.06.94zm-11 1L8.5 8.5l.94-2.06 2.06-.94-2.06-.94L8.5 2.5l-.94 2.06-2.06.94zm10 10l.94 2.06.94-2.06 2.06-.94-2.06-.94-.94-2.06-.94 2.06-2.06.94z\"/><path d=\"M17.41 7.96l-1.37-1.37c-.4-.4-.92-.59-1.43-.59-.52 0-1.04.2-1.43.59L10.3 9.45l-7.72 7.72c-.78.78-.78 2.05 0 2.83L4 21.41c.39.39.9.59 1.41.59.51 0 1.02-.2 1.41-.59l7.78-7.78 2.81-2.81c.8-.78.8-2.07 0-2.86zM5.41 20L4 18.59l7.72-7.72 1.47 1.35L5.41 20z\"/>\n",
              "  </svg>\n",
              "      </button>\n",
              "      \n",
              "  <style>\n",
              "    .colab-df-container {\n",
              "      display:flex;\n",
              "      flex-wrap:wrap;\n",
              "      gap: 12px;\n",
              "    }\n",
              "\n",
              "    .colab-df-convert {\n",
              "      background-color: #E8F0FE;\n",
              "      border: none;\n",
              "      border-radius: 50%;\n",
              "      cursor: pointer;\n",
              "      display: none;\n",
              "      fill: #1967D2;\n",
              "      height: 32px;\n",
              "      padding: 0 0 0 0;\n",
              "      width: 32px;\n",
              "    }\n",
              "\n",
              "    .colab-df-convert:hover {\n",
              "      background-color: #E2EBFA;\n",
              "      box-shadow: 0px 1px 2px rgba(60, 64, 67, 0.3), 0px 1px 3px 1px rgba(60, 64, 67, 0.15);\n",
              "      fill: #174EA6;\n",
              "    }\n",
              "\n",
              "    [theme=dark] .colab-df-convert {\n",
              "      background-color: #3B4455;\n",
              "      fill: #D2E3FC;\n",
              "    }\n",
              "\n",
              "    [theme=dark] .colab-df-convert:hover {\n",
              "      background-color: #434B5C;\n",
              "      box-shadow: 0px 1px 3px 1px rgba(0, 0, 0, 0.15);\n",
              "      filter: drop-shadow(0px 1px 2px rgba(0, 0, 0, 0.3));\n",
              "      fill: #FFFFFF;\n",
              "    }\n",
              "  </style>\n",
              "\n",
              "      <script>\n",
              "        const buttonEl =\n",
              "          document.querySelector('#df-e04038fb-24ce-467c-a345-dd202a960ab1 button.colab-df-convert');\n",
              "        buttonEl.style.display =\n",
              "          google.colab.kernel.accessAllowed ? 'block' : 'none';\n",
              "\n",
              "        async function convertToInteractive(key) {\n",
              "          const element = document.querySelector('#df-e04038fb-24ce-467c-a345-dd202a960ab1');\n",
              "          const dataTable =\n",
              "            await google.colab.kernel.invokeFunction('convertToInteractive',\n",
              "                                                     [key], {});\n",
              "          if (!dataTable) return;\n",
              "\n",
              "          const docLinkHtml = 'Like what you see? Visit the ' +\n",
              "            '<a target=\"_blank\" href=https://colab.research.google.com/notebooks/data_table.ipynb>data table notebook</a>'\n",
              "            + ' to learn more about interactive tables.';\n",
              "          element.innerHTML = '';\n",
              "          dataTable['output_type'] = 'display_data';\n",
              "          await google.colab.output.renderOutput(dataTable, element);\n",
              "          const docLink = document.createElement('div');\n",
              "          docLink.innerHTML = docLinkHtml;\n",
              "          element.appendChild(docLink);\n",
              "        }\n",
              "      </script>\n",
              "    </div>\n",
              "  </div>\n",
              "  "
            ]
          },
          "metadata": {},
          "execution_count": 87
        }
      ]
    },
    {
      "cell_type": "code",
      "source": [
        "len(df_gene_up.loc[df_gene_up[\"min production\"] > 0])"
      ],
      "metadata": {
        "colab": {
          "base_uri": "https://localhost:8080/"
        },
        "id": "b2g-lWUDqPtm",
        "outputId": "d19fcb04-8323-4b45-dab2-3a7fa5408579"
      },
      "id": "b2g-lWUDqPtm",
      "execution_count": 86,
      "outputs": [
        {
          "output_type": "execute_result",
          "data": {
            "text/plain": [
              "9527"
            ]
          },
          "metadata": {},
          "execution_count": 86
        }
      ]
    },
    {
      "cell_type": "code",
      "source": [
        "i_gene_up = df_gene_up[\"i\"].tolist()\n",
        "j_gene_up = df_gene_up[\"j\"].tolist()\n",
        "gene_list_up = j_gene_up + i_gene_up"
      ],
      "metadata": {
        "id": "22v7cfLh0rSu"
      },
      "id": "22v7cfLh0rSu",
      "execution_count": 82,
      "outputs": []
    },
    {
      "cell_type": "code",
      "source": [
        "from collections import Counter\n",
        "c_up = Counter(gene_list_up)\n",
        "print(c_up.most_common(5))\n",
        "print(c_un.most_common(5))"
      ],
      "metadata": {
        "colab": {
          "base_uri": "https://localhost:8080/"
        },
        "id": "6YTbklVg2zH-",
        "outputId": "5f54ddb7-cbb9-49c3-bfe4-ec86d89c5cc0"
      },
      "id": "6YTbklVg2zH-",
      "execution_count": 83,
      "outputs": [
        {
          "output_type": "stream",
          "name": "stdout",
          "text": [
            "[(25, 961), (299, 958), (238, 957), (359, 957), (3, 957)]\n",
            "[(3, 964), (299, 958), (238, 956), (789, 956), (231, 955)]\n"
          ]
        }
      ]
    },
    {
      "cell_type": "code",
      "source": [
        "print(model.genes[25])\n",
        "print(model.genes[299])\n",
        "print(model.genes[238])\n",
        "print(model.genes[359])\n",
        "print(model.genes[3])"
      ],
      "metadata": {
        "colab": {
          "base_uri": "https://localhost:8080/"
        },
        "id": "4csCWEBv2_lL",
        "outputId": "0becf821-fc56-456a-ffbb-41ac3b0902e2"
      },
      "id": "4csCWEBv2_lL",
      "execution_count": 84,
      "outputs": [
        {
          "output_type": "stream",
          "name": "stdout",
          "text": [
            "YBL045C\n",
            "YFR033C\n",
            "YEL024W\n",
            "YGR183C\n",
            "Q0105\n"
          ]
        }
      ]
    },
    {
      "cell_type": "code",
      "source": [
        "print(\"4 best gene pairs:\")\n",
        "for gene_num in range(4):\n",
        "  print(str(model.genes[i_gene_up[gene_num]]) + \" and \" + str(model.genes[j_gene_up[gene_num]]))"
      ],
      "metadata": {
        "id": "bEdK0b1_-tHY",
        "colab": {
          "base_uri": "https://localhost:8080/"
        },
        "outputId": "83a9bdc2-b9cf-439c-f8c7-1c8f16d16588"
      },
      "id": "bEdK0b1_-tHY",
      "execution_count": 85,
      "outputs": [
        {
          "output_type": "stream",
          "name": "stdout",
          "text": [
            "4 best gene pairs:\n",
            "Q0250 and YGR208W\n",
            "Q0275 and YGR208W\n",
            "Q0250 and YOR184W\n",
            "Q0275 and YOR184W\n"
          ]
        }
      ]
    },
    {
      "cell_type": "code",
      "source": [
        "probe_alc3 = find_probe_list_up(df_probe_list,df_control,df_alc3)\n",
        "up_gene_alc3 = find_gene_ids(probe_alc3, probe_map,gene_map)\n",
        "model_alc3_up = adjust_model(model,up_gene_alc3)\n",
        "KO_rxn_up = count_ko_reactions(model_alc3_up)\n",
        "print(KO_rxn_up)"
      ],
      "metadata": {
        "colab": {
          "base_uri": "https://localhost:8080/"
        },
        "id": "_4VPb-xLFQG9",
        "outputId": "5d8416f5-a400-4241-b17b-daa72c8f8582"
      },
      "id": "_4VPb-xLFQG9",
      "execution_count": 93,
      "outputs": [
        {
          "output_type": "stream",
          "name": "stdout",
          "text": [
            "['r_0004', 'r_0694', 'r_0695', 'r_0763', 'r_0940', 'r_1045', 'r_2194', 'r_2200', 'r_3304', 'r_3305', 'r_3306', 'r_3307', 'r_1102', 'r_1169', 'r_1170', 'r_1236', 'r_1250', 'r_1259', 'r_2219', 'r_2220', 'r_2221', 'r_2222', 'r_2223', 'r_2224', 'r_2225', 'r_2226', 'r_2227', 'r_2228', 'r_1663', 'r_1771', 'r_1772', 'r_1774', 'r_2231', 'r_3606', 'r_3607', 'r_4062', 'r_4064', 'r_4279']\n"
          ]
        }
      ]
    },
    {
      "cell_type": "code",
      "source": [
        "wt_solution = model_alc3_up.optimize()\n",
        "print(wt_solution.objective_value)"
      ],
      "metadata": {
        "colab": {
          "base_uri": "https://localhost:8080/"
        },
        "id": "jAUItNZuE63T",
        "outputId": "a5a01811-94a3-414f-eac4-97a4d445ed43"
      },
      "id": "jAUItNZuE63T",
      "execution_count": 94,
      "outputs": [
        {
          "output_type": "stream",
          "name": "stdout",
          "text": [
            "0.0\n"
          ]
        }
      ]
    }
  ],
  "metadata": {
    "kernelspec": {
      "display_name": "Python 3",
      "language": "python",
      "name": "python3"
    },
    "language_info": {
      "codemirror_mode": {
        "name": "ipython",
        "version": 3
      },
      "file_extension": ".py",
      "mimetype": "text/x-python",
      "name": "python",
      "nbconvert_exporter": "python",
      "pygments_lexer": "ipython3",
      "version": "3.8.13"
    },
    "colab": {
      "name": "group02_notebook.ipynb",
      "provenance": [],
      "collapsed_sections": []
    }
  },
  "nbformat": 4,
  "nbformat_minor": 5
}